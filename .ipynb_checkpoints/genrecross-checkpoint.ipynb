{
 "cells": [
  {
   "cell_type": "code",
   "execution_count": null,
   "metadata": {
    "collapsed": true
   },
   "outputs": [],
   "source": [
    "import pandas as pd"
   ]
  },
  {
   "cell_type": "code",
   "execution_count": null,
   "metadata": {
    "collapsed": true
   },
   "outputs": [],
   "source": [
    "df1=pd.read_csv(r\"MovieuserDataset.csv\",engine='python')\n",
    "#df2=pd.read_csv(r\"Temp.csv\",engine='python')\n",
    "df3=pd.read_csv(r\"genre.csv\")"
   ]
  },
  {
   "cell_type": "code",
   "execution_count": null,
   "metadata": {
    "collapsed": true
   },
   "outputs": [],
   "source": [
    "df3.fillna(1,inplace=True)"
   ]
  },
  {
   "cell_type": "code",
   "execution_count": null,
   "metadata": {
    "collapsed": true
   },
   "outputs": [],
   "source": [
    "df3.set_index('Unnamed: 0',inplace=True)"
   ]
  },
  {
   "cell_type": "code",
   "execution_count": null,
   "metadata": {},
   "outputs": [],
   "source": [
    "l3[0]"
   ]
  },
  {
   "cell_type": "code",
   "execution_count": null,
   "metadata": {},
   "outputs": [],
   "source": [
    "print(df1.head())\n",
    "print(df2.head())\n",
    "print(df3.head())\n",
    "l3=df3.index.tolist()"
   ]
  },
  {
   "cell_type": "code",
   "execution_count": null,
   "metadata": {
    "collapsed": true
   },
   "outputs": [],
   "source": [
    "for i in range(0,len(l3)):\n",
    "    l3[i]=l3[i].replace(\" \",\"\")\n",
    "df3.index=l3"
   ]
  },
  {
   "cell_type": "code",
   "execution_count": null,
   "metadata": {
    "collapsed": true
   },
   "outputs": [],
   "source": [
    "l3=df3.columns.tolist()\n",
    "for i in range(0,len(l3)):\n",
    "    l3[i]=l3[i].replace(\" \",\"\")\n",
    "df3.columns=l3"
   ]
  },
  {
   "cell_type": "markdown",
   "metadata": {},
   "source": [
    "### "
   ]
  },
  {
   "cell_type": "code",
   "execution_count": null,
   "metadata": {
    "collapsed": true
   },
   "outputs": [],
   "source": [
    "l2=df2['genres'].tolist()"
   ]
  },
  {
   "cell_type": "code",
   "execution_count": null,
   "metadata": {
    "collapsed": true
   },
   "outputs": [],
   "source": [
    "df2.dropna(inplace=True)"
   ]
  },
  {
   "cell_type": "code",
   "execution_count": null,
   "metadata": {},
   "outputs": [],
   "source": [
    "l2=df2['genres'].tolist()\n",
    "len(l2)"
   ]
  },
  {
   "cell_type": "code",
   "execution_count": null,
   "metadata": {
    "collapsed": true
   },
   "outputs": [],
   "source": [
    "m=df2['rating'].tolist()"
   ]
  },
  {
   "cell_type": "code",
   "execution_count": null,
   "metadata": {
    "collapsed": true
   },
   "outputs": [],
   "source": [
    "l3=df1['userId']\n",
    "l4=df1['genres']\n",
    "from collections import defaultdict\n",
    "d = defaultdict(list)\n",
    "#d is dictionary\n",
    "for i in range(0,len(l3)):\n",
    "    d[l3[i]].append(l4[i])\n",
    "    "
   ]
  },
  {
   "cell_type": "code",
   "execution_count": null,
   "metadata": {
    "collapsed": true
   },
   "outputs": [],
   "source": [
    "import string\n",
    "translator = str.maketrans('', '', string.punctuation)\n",
    "for i in range(0,len(l2)):\n",
    "    l2[i]=l2[i].split();\n",
    "    for j in range(0,len(l2[i])):\n",
    "        l2[i][j]=l2[i][j].translate(translator)\n",
    "        l2[i][j]=l2[i][j].lower()"
   ]
  },
  {
   "cell_type": "code",
   "execution_count": null,
   "metadata": {
    "collapsed": true
   },
   "outputs": [],
   "source": [
    "for i in range(1,len(d)+1):\n",
    "    #d[i]=d[i].split();\n",
    "    for j in range(0,len(d[i])):\n",
    "        d[i][j]=d[i][j].split()\n",
    "        for k in range(0,len(d[i][j])):\n",
    "            d[i][j][k]=d[i][j][k].translate(translator)\n",
    "            d[i][j][k]=d[i][j][k].lower()"
   ]
  },
  {
   "cell_type": "code",
   "execution_count": null,
   "metadata": {
    "collapsed": true
   },
   "outputs": [],
   "source": [
    "l5=df3.index.tolist()"
   ]
  },
  {
   "cell_type": "code",
   "execution_count": null,
   "metadata": {
    "collapsed": true
   },
   "outputs": [],
   "source": [
    "for i in range(1,len(d)+1):\n",
    "    for j in range(0,len(d[i])):\n",
    "        d[i][j]=[s for s in d[i][j] if s in l5] # selecting only required genres"
   ]
  },
  {
   "cell_type": "code",
   "execution_count": null,
   "metadata": {
    "collapsed": true
   },
   "outputs": [],
   "source": [
    "l6=df3.columns.tolist()"
   ]
  },
  {
   "cell_type": "code",
   "execution_count": null,
   "metadata": {
    "collapsed": true
   },
   "outputs": [],
   "source": [
    "for i in range(0,len(l2)):\n",
    "    l2[i]=[s for s in l2[i] if s in l6]"
   ]
  },
  {
   "cell_type": "code",
   "execution_count": null,
   "metadata": {
    "collapsed": true
   },
   "outputs": [],
   "source": [
    "d2 = defaultdict(list)"
   ]
  },
  {
   "cell_type": "code",
   "execution_count": null,
   "metadata": {},
   "outputs": [],
   "source": [
    "d[1]"
   ]
  },
  {
   "cell_type": "code",
   "execution_count": null,
   "metadata": {},
   "outputs": [],
   "source": [
    "#score=[]\n",
    "l=d[1][0]\n",
    "s=1\n",
    "for u in range(1,len(d)+1):\n",
    "    for v in range(0,len(d[u])):\n",
    "        \n",
    "        l=d[u][v]# list of genres corresponding to one movie \n",
    "        score=[]\n",
    "        for i in range(0,len(l2)):# iterating over books\n",
    "            count=0\n",
    "            for j in range(0,len(l)): # iterating over each genre in l\n",
    "                for k in range(0,len(l2[i])):# iterating over each genre of book\n",
    "                    count+=df3.loc[l[j]].loc[l2[i][k]]\n",
    "            if len(l)==0 or len(l2[i])==0:\n",
    "                count=0\n",
    "            else:\n",
    "                count/=(len(l))*len(l2[i])\n",
    "            #count*=m[i]\n",
    "            score.append(count)\n",
    "        d2[u].append(score)\n",
    "    print(s)\n",
    "    s+=1"
   ]
  },
  {
   "cell_type": "code",
   "execution_count": null,
   "metadata": {
    "collapsed": true
   },
   "outputs": [],
   "source": [
    "from __future__ import division"
   ]
  },
  {
   "cell_type": "code",
   "execution_count": null,
   "metadata": {
    "collapsed": true
   },
   "outputs": [],
   "source": [
    "for i in range(1,len(d2)+1):\n",
    "    d2[i]=[sum(e)/len(e) for e in zip(*d2[i])]"
   ]
  },
  {
   "cell_type": "code",
   "execution_count": null,
   "metadata": {},
   "outputs": [],
   "source": [
    "d2[1]"
   ]
  },
  {
   "cell_type": "code",
   "execution_count": null,
   "metadata": {
    "collapsed": true
   },
   "outputs": [],
   "source": [
    "import numpy as np\n",
    "zero_data=np.zeros(shape=(2378,11))\n",
    "d = pd.DataFrame(zero_data)"
   ]
  },
  {
   "cell_type": "code",
   "execution_count": null,
   "metadata": {
    "collapsed": true
   },
   "outputs": [],
   "source": [
    "for i in range(1,len(d2)+1):\n",
    "    d[i]=pd.Series(d2[i])"
   ]
  },
  {
   "cell_type": "code",
   "execution_count": null,
   "metadata": {
    "collapsed": true
   },
   "outputs": [],
   "source": [
    "d.to_csv(\"genreCrosstest10.csv\")\n"
   ]
  },
  {
   "cell_type": "code",
   "execution_count": null,
   "metadata": {
    "collapsed": true
   },
   "outputs": [],
   "source": [
    "## recommending books"
   ]
  },
  {
   "cell_type": "code",
   "execution_count": null,
   "metadata": {
    "collapsed": true
   },
   "outputs": [],
   "source": [
    "#df4=pd.read_csv(\"similarCrossTest10.csv\")\n",
    "df5=pd.read_csv(\"genreCrosstest10.csv\")"
   ]
  },
  {
   "cell_type": "code",
   "execution_count": null,
   "metadata": {
    "collapsed": true
   },
   "outputs": [],
   "source": [
    "import numpy as np\n",
    "zero_data=np.zeros(shape=(2378,11))\n",
    "d2 = pd.DataFrame(zero_data)"
   ]
  },
  {
   "cell_type": "code",
   "execution_count": null,
   "metadata": {
    "collapsed": true
   },
   "outputs": [],
   "source": [
    "for i in range(1,11):\n",
    "    data=[]\n",
    "    #data.append(df4[str(i)])\n",
    "    data.append(df5[str(i)])\n",
    "    l7=[]\n",
    "    for j in range(0,2378):\n",
    "       # l7.append(1*data[1][j]+0*data[0][j])\n",
    "         l7.append(data[0][j])\n",
    "    d2[i]=l7"
   ]
  },
  {
   "cell_type": "code",
   "execution_count": null,
   "metadata": {
    "collapsed": true
   },
   "outputs": [],
   "source": [
    "result = pd.concat([df2, d2], axis=1)"
   ]
  },
  {
   "cell_type": "code",
   "execution_count": null,
   "metadata": {
    "collapsed": true
   },
   "outputs": [],
   "source": []
  },
  {
   "cell_type": "code",
   "execution_count": null,
   "metadata": {
    "collapsed": true
   },
   "outputs": [],
   "source": [
    "import numpy as np\n",
    "zero_data=np.zeros(shape=(20,11))\n",
    "books = pd.DataFrame(zero_data)"
   ]
  },
  {
   "cell_type": "code",
   "execution_count": null,
   "metadata": {
    "collapsed": true
   },
   "outputs": [],
   "source": [
    "\n",
    "for i in range(1,11):\n",
    "    result = pd.concat([df2, d2], axis=1)\n",
    "    result.sort_values(by=i,ascending=False,inplace=True)\n",
    "    df8=(result.head(n=20))\n",
    "    l=df8['title'].tolist()\n",
    "    books[i]=l"
   ]
  },
  {
   "cell_type": "code",
   "execution_count": null,
   "metadata": {
    "scrolled": true
   },
   "outputs": [],
   "source": [
    "(d2[2][0])"
   ]
  },
  {
   "cell_type": "code",
   "execution_count": null,
   "metadata": {},
   "outputs": [],
   "source": [
    "books.head(n=20)"
   ]
  },
  {
   "cell_type": "code",
   "execution_count": null,
   "metadata": {
    "collapsed": true
   },
   "outputs": [],
   "source": [
    "books.to_csv(\"Onlygenresrecommend.csv\")"
   ]
  },
  {
   "cell_type": "code",
   "execution_count": null,
   "metadata": {},
   "outputs": [],
   "source": [
    "from nltk.corpus import wordnet\n",
    "cb = wordnet.synset('cookbook.n.01')\n",
    "ib = wordnet.synset('tomato.n.02')\n",
    "cb.wup_similarity(ib)"
   ]
  },
  {
   "cell_type": "code",
   "execution_count": null,
   "metadata": {},
   "outputs": [],
   "source": [
    "from nltk.wsd import lesk\n",
    "sent = ['I', 'went', 'to', 'the', 'bank', 'to', 'deposit', 'money', '.']\n",
    "print(lesk(sent, 'bank', 'n'))\n",
    "#Synset('savings_bank.n.02')\n",
    "print(lesk(sent, 'bank'))\n",
    "#Synset('savings_bank.n.02')"
   ]
  },
  {
   "cell_type": "code",
   "execution_count": null,
   "metadata": {
    "collapsed": true
   },
   "outputs": [],
   "source": []
  }
 ],
 "metadata": {
  "kernelspec": {
   "display_name": "Python 3",
   "language": "python",
   "name": "python3"
  },
  "language_info": {
   "codemirror_mode": {
    "name": "ipython",
    "version": 3
   },
   "file_extension": ".py",
   "mimetype": "text/x-python",
   "name": "python",
   "nbconvert_exporter": "python",
   "pygments_lexer": "ipython3",
   "version": "3.6.3"
  }
 },
 "nbformat": 4,
 "nbformat_minor": 2
}
