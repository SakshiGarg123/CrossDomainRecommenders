{
 "cells": [
  {
   "cell_type": "code",
   "execution_count": 359,
   "metadata": {
    "collapsed": true
   },
   "outputs": [],
   "source": [
    "import pandas as pd"
   ]
  },
  {
   "cell_type": "code",
   "execution_count": 360,
   "metadata": {},
   "outputs": [
    {
     "name": "stdout",
     "output_type": "stream",
     "text": [
      "   Unnamed: 0                       title  \\\n",
      "0           0               Sole Survivor   \n",
      "1           1                Fear Nothing   \n",
      "2           2                False Memory   \n",
      "3           3   One Door Away from Heaven   \n",
      "4           4  From the Corner of His Eye   \n",
      "\n",
      "                                            keywords     rating  \\\n",
      "0  ['family', 'development', 'things', 'sense', '...   1.000000   \n",
      "1  ['family', 'cottage', 'focuses', 'pet', 'lives...   5.000000   \n",
      "2  ['things', 'skeet', 'suicide', 'cause', 'use',...  10.000000   \n",
      "3  ['family', 'quest', 'pledge', 'academic', 'lis...   7.771429   \n",
      "4  ['stories', 'loving', 'late', 'genius', 'woman...   8.500000   \n",
      "\n",
      "                                              genres  \n",
      "0  ['Thriller', 'Mystery', 'Speculative', 'fictio...  \n",
      "1  ['Thriller', 'Mystery', 'Speculative', 'fictio...  \n",
      "2   ['Speculative', 'fiction', 'Horror', 'Suspense']  \n",
      "3   ['Speculative', 'fiction', 'Horror', 'Suspense']  \n",
      "4  ['Thriller', 'Speculative', 'fiction', 'Fantas...  \n",
      "      Unnamed: 0  photography      crossover      adventure      bangsian    \\\n",
      "0      fantasy               10             80             75            85   \n",
      "1      romance               70             50             55            60   \n",
      "2    adventure               20             90             95            55   \n",
      "3        odyssey             60             70             65            20   \n",
      "4       comedy               10             12             15            30   \n",
      "\n",
      "     chick      tale      journal      graphic      fictional       ...       \\\n",
      "0         77        65           10           12             84     ...        \n",
      "1         50        80            8           20             37     ...        \n",
      "2         22        70           12           10             45     ...        \n",
      "3         25        55           21           35             40     ...        \n",
      "4         15        30           25           50             28     ...        \n",
      "\n",
      "     sorcery      mashup      low      speculative      book      true    \\\n",
      "0           50          12       12               30        40        10   \n",
      "1           10          25       30                3        45        45   \n",
      "2           12          50        7               35        50        50   \n",
      "3            5           8       33               10        25        30   \n",
      "4            8          10        5                2        33         5   \n",
      "\n",
      "     play      postmodernism      sciences      parallel   \n",
      "0        60                 34            30           25  \n",
      "1        65                 10             5           20  \n",
      "2        35                 33            20           28  \n",
      "3        20                 20            10           40  \n",
      "4        45                  7             5            3  \n",
      "\n",
      "[5 rows x 189 columns]\n"
     ]
    }
   ],
   "source": [
    "df1=pd.read_csv(r\"gargs62@gmail.com - Sheet1.csv\",engine='python')\n",
    "df2=pd.read_csv(r\"Bookratingsdataset.csv\",engine='python')\n",
    "#df2=pd.read_csv(r\"Temp.csv\",engine='python')\n",
    "df3=pd.read_csv(r\"genre.csv\")\n",
    "print(df2.head())\n",
    "print(df3.head())"
   ]
  },
  {
   "cell_type": "code",
   "execution_count": 361,
   "metadata": {},
   "outputs": [],
   "source": [
    "\n",
    "df3.fillna(1,inplace=True)"
   ]
  },
  {
   "cell_type": "code",
   "execution_count": 362,
   "metadata": {
    "collapsed": true
   },
   "outputs": [],
   "source": [
    "df3.set_index('Unnamed: 0',inplace=True)"
   ]
  },
  {
   "cell_type": "code",
   "execution_count": 363,
   "metadata": {
    "collapsed": true
   },
   "outputs": [],
   "source": [
    "#l3[0]"
   ]
  },
  {
   "cell_type": "code",
   "execution_count": 364,
   "metadata": {},
   "outputs": [
    {
     "name": "stdout",
     "output_type": "stream",
     "text": [
      "   Unnamed: 0  userId  movieId    rating        original_title  \\\n",
      "0           0       1      NaN  2.833333              The Blob   \n",
      "1           1       1      NaN       NaN         Force of Evil   \n",
      "2           2       1      NaN       NaN  Os Normais - O Filme   \n",
      "3           3       1      NaN       NaN  Os Normais - O Filme   \n",
      "4           4       1      NaN       NaN             The Beach   \n",
      "\n",
      "                                              genres  \\\n",
      "0  [{'id': 27, 'name': 'Comedy'}, {'id': 878, 'na...   \n",
      "1  [{'id': 27, 'name': 'Comedy'}, {'id': 878, 'na...   \n",
      "2  [{'id': 27, 'name': 'Comedy'}, {'id': 878, 'na...   \n",
      "3  [{'id': 27, 'name': 'Comedy'}, {'id': 878, 'na...   \n",
      "4  [{'id': 27, 'name': 'Comedy'}, {'id': 878, 'na...   \n",
      "\n",
      "                                            keywords  \n",
      "0  [{'id': 2375, 'name': 'junkie'}, {'id': 2671, ...  \n",
      "1  [{'id': 1860, 'name': 'mutiny'}, {'id': 3799, ...  \n",
      "2  [{'id': 1454, 'name': 'treasure'}, {'id': 1969...  \n",
      "3  [{'id': 1454, 'name': 'treasure'}, {'id': 1969...  \n",
      "4  [{'id': 458, 'name': 'hippie'}, {'id': 911, 'n...  \n",
      "   Unnamed: 0                       title  \\\n",
      "0           0               Sole Survivor   \n",
      "1           1                Fear Nothing   \n",
      "2           2                False Memory   \n",
      "3           3   One Door Away from Heaven   \n",
      "4           4  From the Corner of His Eye   \n",
      "\n",
      "                                            keywords     rating  \\\n",
      "0  ['family', 'development', 'things', 'sense', '...   1.000000   \n",
      "1  ['family', 'cottage', 'focuses', 'pet', 'lives...   5.000000   \n",
      "2  ['things', 'skeet', 'suicide', 'cause', 'use',...  10.000000   \n",
      "3  ['family', 'quest', 'pledge', 'academic', 'lis...   7.771429   \n",
      "4  ['stories', 'loving', 'late', 'genius', 'woman...   8.500000   \n",
      "\n",
      "                                              genres  \n",
      "0  ['Thriller', 'Mystery', 'Speculative', 'fictio...  \n",
      "1  ['Thriller', 'Mystery', 'Speculative', 'fictio...  \n",
      "2   ['Speculative', 'fiction', 'Horror', 'Suspense']  \n",
      "3   ['Speculative', 'fiction', 'Horror', 'Suspense']  \n",
      "4  ['Thriller', 'Speculative', 'fiction', 'Fantas...  \n",
      "               photography      crossover      adventure      bangsian    \\\n",
      "Unnamed: 0                                                                 \n",
      "  fantasy                 10             80             75            85   \n",
      "  romance                 70             50             55            60   \n",
      "  adventure               20             90             95            55   \n",
      "  odyssey                 60             70             65            20   \n",
      "  comedy                  10             12             15            30   \n",
      "  scramble                 1              1              1             1   \n",
      "  film                     2              2              2             2   \n",
      "  aniplex                  3              3              3             3   \n",
      "  sentai                   4              4              4             4   \n",
      "  state                    1              1              1             1   \n",
      "\n",
      "                 chick      tale      journal      graphic      fictional    \\\n",
      "Unnamed: 0                                                                    \n",
      "  fantasy             77        65           10           12             84   \n",
      "  romance             50        80            8           20             37   \n",
      "  adventure           22        70           12           10             45   \n",
      "  odyssey             25        55           21           35             40   \n",
      "  comedy              15        30           25           50             28   \n",
      "  scramble             1         1            1            1              1   \n",
      "  film                 2         2            2            2              2   \n",
      "  aniplex              3         3            3            3              3   \n",
      "  sentai               4         4            4            4              4   \n",
      "  state                1         1            1            1              1   \n",
      "\n",
      "                 sports       ...         sorcery      mashup      low    \\\n",
      "Unnamed: 0                    ...                                          \n",
      "  fantasy              20     ...                50          12       12   \n",
      "  romance               4     ...                10          25       30   \n",
      "  adventure            60     ...                12          50        7   \n",
      "  odyssey              35     ...                 5           8       33   \n",
      "  comedy               10     ...                 8          10        5   \n",
      "  scramble              1     ...                 4           4        4   \n",
      "  film                  2     ...                 1           1        1   \n",
      "  aniplex               3     ...                 2           2        2   \n",
      "  sentai                4     ...                 3           3        3   \n",
      "  state                 1     ...                 4           4        4   \n",
      "\n",
      "                 speculative      book      true      play    \\\n",
      "Unnamed: 0                                                     \n",
      "  fantasy                   30        40        10        60   \n",
      "  romance                    3        45        45        65   \n",
      "  adventure                 35        50        50        35   \n",
      "  odyssey                   10        25        30        20   \n",
      "  comedy                     2        33         5        45   \n",
      "  scramble                   4         4         4         4   \n",
      "  film                       1         1         1         1   \n",
      "  aniplex                    2         2         2         2   \n",
      "  sentai                     3         3         3         3   \n",
      "  state                      4         4         4         4   \n",
      "\n",
      "                 postmodernism      sciences      parallel   \n",
      "Unnamed: 0                                                   \n",
      "  fantasy                     34            30           25  \n",
      "  romance                     10             5           20  \n",
      "  adventure                   33            20           28  \n",
      "  odyssey                     20            10           40  \n",
      "  comedy                       7             5            3  \n",
      "  scramble                     4             4            4  \n",
      "  film                         1             1            1  \n",
      "  aniplex                      2             2            2  \n",
      "  sentai                       3             3            3  \n",
      "  state                        4             4            4  \n",
      "\n",
      "[10 rows x 188 columns]\n"
     ]
    }
   ],
   "source": [
    "print(df1.head())\n",
    "print(df2.head())\n",
    "print(df3.head(10))\n",
    "l3=df3.index.tolist()"
   ]
  },
  {
   "cell_type": "code",
   "execution_count": 365,
   "metadata": {},
   "outputs": [
    {
     "name": "stdout",
     "output_type": "stream",
     "text": [
      "           photography      crossover      adventure      bangsian    \\\n",
      "fantasy               10             80             75            85   \n",
      "romance               70             50             55            60   \n",
      "adventure             20             90             95            55   \n",
      "odyssey               60             70             65            20   \n",
      "comedy                10             12             15            30   \n",
      "\n",
      "             chick      tale      journal      graphic      fictional    \\\n",
      "fantasy           77        65           10           12             84   \n",
      "romance           50        80            8           20             37   \n",
      "adventure         22        70           12           10             45   \n",
      "odyssey           25        55           21           35             40   \n",
      "comedy            15        30           25           50             28   \n",
      "\n",
      "             sports       ...         sorcery      mashup      low    \\\n",
      "fantasy            20     ...                50          12       12   \n",
      "romance             4     ...                10          25       30   \n",
      "adventure          60     ...                12          50        7   \n",
      "odyssey            35     ...                 5           8       33   \n",
      "comedy             10     ...                 8          10        5   \n",
      "\n",
      "             speculative      book      true      play      postmodernism    \\\n",
      "fantasy                 30        40        10        60                 34   \n",
      "romance                  3        45        45        65                 10   \n",
      "adventure               35        50        50        35                 33   \n",
      "odyssey                 10        25        30        20                 20   \n",
      "comedy                   2        33         5        45                  7   \n",
      "\n",
      "             sciences      parallel   \n",
      "fantasy              30           25  \n",
      "romance               5           20  \n",
      "adventure            20           28  \n",
      "odyssey              10           40  \n",
      "comedy                5            3  \n",
      "\n",
      "[5 rows x 188 columns]\n"
     ]
    }
   ],
   "source": [
    "for i in range(0,len(l3)):\n",
    "    l3[i]=l3[i].replace(\" \",\"\")\n",
    "df3.index=l3\n",
    "print(df3.head())"
   ]
  },
  {
   "cell_type": "code",
   "execution_count": 366,
   "metadata": {
    "collapsed": true
   },
   "outputs": [],
   "source": [
    "l3=df3.columns.tolist()\n",
    "for i in range(0,len(l3)):\n",
    "    l3[i]=l3[i].replace(\" \",\"\")\n",
    "df3.columns=l3\n",
    "df3.to_csv(\"new_genre_correlation_matrix.csv\")"
   ]
  },
  {
   "cell_type": "markdown",
   "metadata": {},
   "source": [
    "### "
   ]
  },
  {
   "cell_type": "code",
   "execution_count": 367,
   "metadata": {
    "collapsed": true
   },
   "outputs": [],
   "source": [
    "df2.dropna(inplace=True)"
   ]
  },
  {
   "cell_type": "code",
   "execution_count": 368,
   "metadata": {},
   "outputs": [
    {
     "data": {
      "text/plain": [
       "2378"
      ]
     },
     "execution_count": 368,
     "metadata": {},
     "output_type": "execute_result"
    }
   ],
   "source": [
    "l2=df2['genres'].tolist()\n",
    "len(l2)"
   ]
  },
  {
   "cell_type": "code",
   "execution_count": 369,
   "metadata": {
    "collapsed": true
   },
   "outputs": [],
   "source": [
    "m=df2['rating'].tolist()"
   ]
  },
  {
   "cell_type": "code",
   "execution_count": 370,
   "metadata": {
    "collapsed": true
   },
   "outputs": [],
   "source": [
    "l3=df1['userId']\n",
    "l4=df1['genres']\n",
    "from collections import defaultdict\n",
    "d = defaultdict(list)\n",
    "#d is dictionary\n",
    "for i in range(0,len(l3)):\n",
    "    d[l3[i]].append(l4[i])\n",
    "    "
   ]
  },
  {
   "cell_type": "code",
   "execution_count": 371,
   "metadata": {
    "collapsed": true
   },
   "outputs": [],
   "source": [
    "import string\n",
    "translator = str.maketrans('', '', string.punctuation)\n",
    "for i in range(0,len(l2)):\n",
    "    l2[i]=l2[i].split();\n",
    "    for j in range(0,len(l2[i])):\n",
    "        l2[i][j]=l2[i][j].translate(translator)\n",
    "        l2[i][j]=l2[i][j].lower()"
   ]
  },
  {
   "cell_type": "code",
   "execution_count": 372,
   "metadata": {
    "collapsed": true
   },
   "outputs": [],
   "source": [
    "for i in range(1,len(d)+1):\n",
    "    #d[i]=d[i].split();\n",
    "    for j in range(0,len(d[i])):\n",
    "        d[i][j]=d[i][j].split()\n",
    "        for k in range(0,len(d[i][j])):\n",
    "            d[i][j][k]=d[i][j][k].translate(translator)\n",
    "            d[i][j][k]=d[i][j][k].lower()"
   ]
  },
  {
   "cell_type": "code",
   "execution_count": 373,
   "metadata": {},
   "outputs": [
    {
     "name": "stdout",
     "output_type": "stream",
     "text": [
      "['fantasy', 'romance', 'adventure', 'odyssey', 'comedy', 'scramble', 'film', 'aniplex', 'sentai', 'state', 'vision', 'pulser', 'filmworks', 'committee', 'entertainment', 'science', 'horror', 'production', 'rogue', 'history', 'group', 'war', 'action', 'mardock', 'drama', 'mystery', 'movie', 'cartel', 'western', 'documentary', 'music', 'telescene', 'animation', 'crime', 'foreign', 'tv', 'fiction', 'family', 'thriller']\n",
      "['fantasy', 'romance', 'adventure', 'odyssey', 'comedy', 'entertainment', 'science', 'horror', 'production', 'rogue', 'history', 'group', 'war', 'action', 'mardock', 'drama', 'mystery', 'movie', 'cartel', 'western', 'documentary', 'music', 'telescene', 'animation', 'crime', 'foreign', 'tv', 'fiction', 'family', 'thriller']\n"
     ]
    }
   ],
   "source": [
    "l5=df3.index.tolist()\n",
    "print(l5)\n",
    "l5.remove('scramble')\n",
    "l5.remove('film')\n",
    "l5.remove('aniplex')\n",
    "l5.remove('sentai')\n",
    "l5.remove('state')\n",
    "l5.remove('vision')\n",
    "l5.remove('pulser')\n",
    "l5.remove('filmworks')\n",
    "l5.remove('committee')\n",
    "print(l5)"
   ]
  },
  {
   "cell_type": "code",
   "execution_count": 374,
   "metadata": {},
   "outputs": [
    {
     "name": "stdout",
     "output_type": "stream",
     "text": [
      "defaultdict(<class 'list'>, {1: [['comedy', 'adventure'], ['comedy', 'adventure'], ['comedy', 'adventure'], ['comedy', 'adventure'], ['comedy', 'adventure'], ['comedy', 'adventure'], ['comedy', 'adventure'], ['comedy', 'adventure'], ['comedy', 'adventure']], 2: [['romance', 'drama'], ['romance', 'drama'], ['romance', 'drama'], ['romance', 'drama'], ['romance', 'drama'], ['romance', 'drama'], ['romance', 'drama'], ['romance', 'drama']]})\n"
     ]
    }
   ],
   "source": [
    "for i in range(1,len(d)+1):\n",
    "    for j in range(0,len(d[i])):\n",
    "        d[i][j]=[s for s in d[i][j] if s in l5] # selecting only required genres\n",
    "print(d)        "
   ]
  },
  {
   "cell_type": "code",
   "execution_count": 375,
   "metadata": {},
   "outputs": [
    {
     "name": "stdout",
     "output_type": "stream",
     "text": [
      "['photography', 'crossover', 'adventure', 'bangsian', 'chick', 'tale', 'journal', 'graphic', 'fictional', 'sports', 'indian', 'military', 'zombie', 'roleplaying', 'business', 'novel', 'states', 'prose', 'conspiracy', 'travel', 'dying', 'autobiography', 'united', 'dystopia', 'epic', 'seller', 'satire', 'bit', 'childrens', 'thriller', 'lit', 'polemic', 'alien', 'list', 'lost', 'hardboiled', 'marketing', 'gamebook', 'culture', 'world', 'picaresque', 'fairy', 'drama', 'postholocaust', 'comedy', 'robinsonade', 'sociology', 'light', 'manners', 'roman', 'spy', 'autobiographical', 'economics', 'modernism', 'picture', 'fantastique', 'superhero', 'contemporary', 'philosophy', 'clef', 'gothic', 'high', 'black', 'coming', 'memoir', 'magic', 'procedural', 'pastiche', 'horror', 'whodunit', 'suspense', 'creative', 'biopunk', 'young', 'social', 'epistolary', 'comic', 'transhumanism', 'selfhelp', 'invasion', 'feminist', 'best', 'parody', 'anthology', 'opera', 'sword', 'religion', 'mathematics', 'novella', 'cyberpunk', 'politics', 'ghost', 'realism', 'serial', 'fiction', 'wuxia', 'short', 'existentialism', 'literary', 'adult', 'fantasy', 'urban', 'bildungsroman', 'heroic', 'literature', 'edisonade', 'romance', 'psychological', 'postcyberpunk', 'fable', 'room', 'absurdist', 'subterranean', 'biographical', 'war', 'colonial', 'game', 'spirituality', 'crime', 'scientific', 'apocalyptic', 'supernatural', 'vampire', 'chivalric', 'comics', 'collage', 'historical', 'technothriller', 'political', 'regency', 'time', 'ergodic', 'essay', 'utopian', 'western', 'fairytale', 'sea', 'whodunnit', 'neuroscience', 'new', 'history', 'age', 'paranormal', 'postapocalyptic', 'humour', 'hard', 'science', 'erotica', 'poetry', 'biography', 'space', 'popular', 'reference', 'music', 'york', 'subgenre', 'detective', 'zombies', 'nature', 'medieval', 'steampunk', 'soft', 'alternate', 'dark', 'locked', 'earth', 'psychology', 'mystery', 'dystopian', 'nonfiction', 'story', 'cookbook', 'times', 'tragicomedy', 'gay', 'personal', 'police', 'campus', 'sorcery', 'mashup', 'low', 'speculative', 'book', 'true', 'play', 'postmodernism', 'sciences', 'parallel']\n"
     ]
    }
   ],
   "source": [
    "l6=df3.columns.tolist()\n",
    "print(l6)\n",
    "l6.remove('novel')\n",
    "#l6.remove('Novel')"
   ]
  },
  {
   "cell_type": "code",
   "execution_count": 376,
   "metadata": {},
   "outputs": [],
   "source": [
    "\n",
    "for i in range(0,len(l2)):\n",
    "    l2[i]=[s for s in l2[i] if s in l6]\n"
   ]
  },
  {
   "cell_type": "code",
   "execution_count": 377,
   "metadata": {},
   "outputs": [
    {
     "name": "stdout",
     "output_type": "stream",
     "text": [
      "[['thriller', 'mystery', 'speculative', 'fiction', 'childrens', 'literature', 'fiction'], ['thriller', 'mystery', 'speculative', 'fiction', 'suspense'], ['speculative', 'fiction', 'horror', 'suspense'], ['speculative', 'fiction', 'horror', 'suspense'], ['thriller', 'speculative', 'fiction', 'fantasy', 'suspense'], ['thriller', 'speculative', 'fiction', 'suspense'], ['thriller', 'fiction'], ['science', 'fiction', 'speculative', 'fiction'], ['young', 'adult', 'literature'], ['philosophy'], ['picture', 'book', 'childrens', 'literature'], ['thriller', 'historical', 'fiction', 'fiction'], ['fantasy', 'science', 'fiction', 'speculative', 'fiction', 'horror', 'fiction'], ['crime', 'fiction', 'mystery', 'speculative', 'fiction', 'fiction', 'suspense'], ['fiction'], ['science', 'fiction', 'satire', 'speculative', 'fiction', 'dystopia', 'fiction'], ['childrens', 'literature', 'young', 'adult', 'literature', 'fiction'], ['science', 'fiction', 'speculative', 'fiction'], ['fiction'], ['speculative', 'fiction', 'fantasy'], ['speculative', 'fiction', 'fantasy'], [], [], ['historical', 'fiction', 'fiction', 'historical'], ['thriller', 'adventure'], ['speculative', 'fiction'], ['historical', 'fiction', 'fiction', 'historical'], ['science', 'fiction', 'speculative', 'fiction'], ['fantasy', 'science', 'fiction', 'speculative', 'fiction', 'horror', 'fiction'], ['speculative', 'fiction', 'fiction'], ['speculative', 'fiction', 'fantasy', 'childrens', 'literature'], ['mystery', 'historical'], ['mystery', 'suspense'], ['crime', 'fiction', 'spy', 'fiction'], ['fiction'], ['mystery'], ['childrens', 'literature', 'young', 'adult', 'literature'], ['childrens', 'literature', 'young', 'adult', 'literature', 'fiction', 'romance'], ['science', 'fiction', 'speculative', 'fiction', 'fiction', 'suspense'], [], ['thriller', 'speculative', 'fiction', 'fiction'], ['thriller', 'conspiracy', 'fiction', 'detective', 'fiction', 'speculative', 'fiction', 'mystery', 'crime', 'fiction', 'fiction', 'suspense'], ['thriller', 'science', 'fiction', 'speculative', 'fiction', 'mystery', 'fantasy', 'fiction', 'suspense'], ['thriller', 'speculative', 'fiction', 'horror'], ['thriller', 'fiction'], [], [], ['thriller', 'mystery', 'fiction'], ['fiction'], ['fiction'], ['crime', 'fiction'], ['horror', 'speculative', 'fiction', 'mystery', 'fantasy', 'fiction', 'suspense'], [], ['science', 'fiction', 'speculative', 'fiction'], ['fiction'], ['picture', 'book', 'childrens', 'literature'], ['crime', 'fiction', 'mystery'], ['crime', 'fiction', 'mystery', 'fiction'], ['crime', 'fiction', 'mystery', 'fiction'], ['crime', 'fiction', 'mystery', 'fiction', 'suspense'], ['childrens', 'literature', 'fantasy', 'speculative', 'fiction', 'romance', 'fiction'], [], ['crime', 'fiction'], ['science', 'fiction', 'speculative', 'fiction', 'fantasy', 'fiction'], ['science', 'fiction', 'speculative', 'fiction', 'fantasy', 'fiction'], ['science', 'fiction', 'speculative', 'fiction', 'fantasy', 'fiction'], ['fantasy', 'science', 'fiction', 'speculative', 'fiction', 'horror', 'fiction'], ['science', 'fiction', 'speculative', 'fiction'], ['science', 'fiction', 'speculative', 'fiction', 'fantasy', 'fiction'], ['speculative', 'fiction', 'fantasy'], ['thriller'], ['thriller', 'speculative', 'fiction', 'adventure'], ['fantasy', 'mystery', 'speculative', 'fiction', 'horror', 'fiction'], ['childrens', 'literature', 'young', 'adult', 'literature', 'fiction'], ['science', 'fiction', 'speculative', 'fiction', 'fantasy'], ['speculative', 'fiction', 'fantasy', 'fiction'], ['speculative', 'fiction', 'fantasy'], ['romance', 'speculative', 'fiction', 'fiction', 'adventure', 'historical'], ['childrens', 'literature', 'fantasy', 'fiction'], ['war'], ['science', 'fiction', 'speculative', 'fiction'], ['science', 'fiction', 'horror', 'speculative', 'fiction', 'mystery', 'fantasy', 'fiction'], ['war', 'fiction'], ['speculative', 'fiction', 'fantasy'], ['childrens', 'literature', 'fantasy', 'speculative', 'fiction', 'fiction'], ['speculative', 'fiction', 'fantasy', 'fiction'], ['thriller', 'speculative', 'fiction', 'mystery', 'suspense', 'fiction'], ['science', 'fiction', 'speculative', 'fiction'], ['science', 'fiction'], ['prose', 'poetry'], ['crime', 'fiction', 'mystery'], ['young', 'adult', 'literature'], ['technothriller'], ['thriller', 'horror', 'speculative', 'fiction', 'mystery', 'fantasy', 'fiction', 'suspense'], ['thriller', 'psychological'], [], ['science', 'fiction', 'speculative', 'fiction', 'fiction'], ['crime', 'fiction'], ['science', 'fiction', 'speculative', 'fiction', 'fantasy', 'fiction'], ['science', 'fiction', 'speculative', 'fiction', 'fantasy', 'fiction'], ['science', 'fiction', 'speculative', 'fiction', 'fantasy', 'fiction'], ['science', 'fiction', 'speculative', 'fiction', 'fantasy', 'fiction'], ['science', 'fiction', 'speculative', 'fiction', 'fantasy', 'fiction'], ['science', 'fiction', 'speculative', 'fiction', 'fiction'], ['short', 'story'], ['thriller'], ['magic', 'realism'], ['speculative', 'fiction'], ['science', 'fiction', 'speculative', 'fiction', 'fantasy'], ['thriller'], ['fiction'], ['horror', 'speculative', 'fiction', 'mystery', 'fantasy', 'fiction', 'suspense'], ['speculative', 'fiction'], ['crime', 'fiction', 'mystery', 'suspense'], ['speculative', 'fiction', 'fantasy'], ['young', 'adult', 'literature'], ['alternate', 'history', 'science', 'fiction', 'speculative', 'fiction', 'fantasy', 'fiction'], ['crime', 'fiction', 'mystery'], ['science', 'fiction', 'childrens', 'literature', 'fantasy', 'speculative', 'fiction', 'fiction'], ['thriller', 'mystery', 'crime', 'fiction', 'fiction', 'suspense'], ['speculative', 'fiction'], ['crime', 'fiction', 'mystery', 'fiction', 'suspense'], ['crime', 'fiction', 'mystery', 'childrens', 'literature', 'fiction'], ['crime', 'fiction', 'historical', 'fiction', 'mystery', 'fiction', 'historical', 'suspense'], ['crime', 'fiction', 'mystery', 'fiction'], ['crime', 'fiction', 'mystery', 'fiction', 'suspense'], ['crime', 'fiction', 'mystery', 'fiction'], ['science', 'fiction', 'speculative', 'fiction', 'fiction', 'utopian', 'dystopian', 'fiction'], ['crime', 'fiction', 'mystery', 'fiction', 'suspense'], ['mystery', 'speculative', 'fiction', 'young', 'adult', 'literature', 'romance'], ['childrens', 'literature', 'speculative', 'fiction', 'romance', 'mystery', 'epistolary', 'fiction', 'mathematics', 'suspense'], ['thriller', 'speculative', 'fiction', 'fiction', 'war'], ['speculative', 'fiction', 'fantasy', 'fiction', 'historical'], ['science', 'fiction', 'speculative', 'fiction', 'fantasy', 'fiction'], ['crime', 'fiction', 'mystery', 'fiction', 'suspense'], ['science', 'fiction', 'speculative', 'fiction', 'fantasy', 'fiction'], ['science', 'fiction'], ['childrens', 'literature', 'fiction'], ['speculative', 'fiction', 'fantasy', 'childrens', 'literature'], ['thriller', 'mystery', 'fiction', 'suspense'], ['childrens', 'literature', 'young', 'adult', 'literature', 'fiction'], ['thriller'], ['crime', 'fiction', 'mystery', 'fiction', 'suspense'], ['crime', 'fiction', 'mystery', 'fiction'], ['crime', 'fiction', 'mystery', 'fiction', 'suspense'], ['mystery', 'speculative', 'fiction', 'historical'], ['science', 'fiction', 'speculative', 'fiction'], ['science', 'fiction', 'childrens', 'literature', 'speculative', 'fiction', 'young', 'adult', 'literature', 'fiction', 'dystopia'], ['crime', 'fiction', 'mystery', 'fiction', 'suspense'], ['crime', 'fiction', 'mystery', 'fiction'], ['crime', 'fiction', 'mystery', 'fiction', 'suspense'], ['crime', 'fiction', 'mystery'], ['crime', 'fiction', 'mystery', 'fiction', 'suspense'], ['childrens', 'literature', 'fiction'], ['science', 'fiction', 'speculative', 'fiction'], ['young', 'adult', 'literature'], ['crime', 'fiction', 'mystery'], ['crime', 'fiction', 'mystery'], ['thriller', 'crime', 'fiction', 'horror', 'speculative', 'fiction', 'mystery', 'fiction', 'suspense'], ['fiction'], [], ['speculative', 'fiction', 'fantasy', 'historical'], ['science', 'fiction', 'speculative', 'fiction'], ['science', 'fiction', 'speculative', 'fiction'], ['thriller', 'crime', 'fiction', 'reference', 'mystery', 'fiction', 'suspense'], ['thriller', 'mystery', 'fiction'], ['science', 'fiction', 'speculative', 'fiction'], ['historical', 'fiction', 'fiction'], ['speculative', 'fiction', 'fiction'], ['science', 'fiction', 'childrens', 'literature', 'speculative', 'fiction', 'technothriller', 'romance', 'fantasy', 'fiction'], ['science', 'fiction', 'childrens', 'literature', 'young', 'adult', 'literature', 'speculative', 'fiction', 'fiction'], ['mystery', 'childrens', 'literature', 'young', 'adult', 'literature', 'speculative', 'fiction', 'fiction'], ['fiction'], ['gothic', 'fiction', 'speculative', 'fiction'], ['crime', 'fiction', 'mystery', 'detective', 'fiction', 'fiction', 'suspense'], ['thriller', 'fiction'], ['gothic', 'fiction', 'speculative', 'fiction', 'young', 'adult', 'literature'], ['gothic', 'fiction', 'young', 'adult', 'literature'], ['gothic', 'fiction', 'young', 'adult', 'literature'], ['gothic', 'fiction', 'speculative', 'fiction', 'young', 'adult', 'literature'], ['science', 'fiction', 'speculative', 'fiction', 'fiction'], ['thriller', 'childrens', 'literature', 'horror', 'speculative', 'fiction', 'fiction'], ['speculative', 'fiction'], ['speculative', 'fiction'], ['science', 'fiction'], ['crime', 'fiction', 'detective', 'fiction', 'mystery', 'suspense', 'fiction'], ['childrens', 'literature', 'fantasy'], ['crime', 'fiction', 'mystery', 'detective', 'fiction', 'fiction', 'suspense'], ['crime', 'fiction', 'mystery', 'detective', 'fiction', 'fiction', 'suspense'], ['crime', 'fiction', 'mystery', 'detective', 'fiction', 'fiction', 'suspense'], ['crime', 'fiction', 'detective', 'fiction', 'mystery', 'suspense', 'fiction'], ['crime', 'fiction', 'detective', 'fiction', 'mystery', 'suspense', 'fiction'], ['crime', 'fiction', 'mystery', 'detective', 'fiction', 'fiction', 'suspense'], ['autobiography', 'nonfiction'], ['historical'], ['thriller', 'speculative', 'fiction', 'mystery', 'suspense', 'fiction'], ['thriller', 'mystery', 'fiction', 'suspense'], ['crime', 'fiction'], ['crime', 'fiction', 'mystery', 'fiction', 'suspense'], ['science', 'fiction', 'speculative', 'fiction', 'fantasy'], [], ['science', 'fiction', 'speculative', 'fiction', 'fiction'], ['childrens', 'literature', 'young', 'adult', 'literature', 'fiction'], ['fiction'], ['speculative', 'fiction'], ['speculative', 'fiction'], ['speculative', 'fiction'], ['speculative', 'fiction'], ['speculative', 'fiction'], ['speculative', 'fiction'], ['speculative', 'fiction'], ['science', 'fiction', 'speculative', 'fiction', 'fantasy', 'fiction'], ['speculative', 'fiction'], ['speculative', 'fiction'], ['speculative', 'fiction'], [], ['speculative', 'fiction'], ['science', 'fiction', 'speculative', 'fiction', 'fiction'], ['mystery', 'fiction', 'romance', 'suspense'], ['crime', 'fiction', 'mystery'], ['crime', 'fiction', 'mystery'], ['mystery', 'detective', 'fiction', 'fiction', 'suspense'], ['speculative', 'fiction', 'childrens', 'literature'], ['mystery', 'fiction', 'suspense'], ['speculative', 'fiction'], ['crime', 'fiction', 'fiction'], ['science', 'fiction', 'speculative', 'fiction'], ['science', 'fiction', 'speculative', 'fiction'], ['science', 'fiction', 'speculative', 'fiction'], ['science', 'fiction', 'speculative', 'fiction'], ['science', 'fiction', 'speculative', 'fiction'], ['childrens', 'literature', 'fiction'], ['speculative', 'fiction'], ['science', 'fiction', 'speculative', 'fiction', 'fiction'], ['mystery', 'suspense'], ['mystery', 'speculative', 'fiction', 'fiction'], ['speculative', 'fiction', 'horror'], ['childrens', 'literature', 'fiction', 'romance'], ['fiction', 'historical'], ['crime', 'fiction'], ['speculative', 'fiction', 'fantasy', 'childrens', 'literature'], ['mystery', 'spy', 'fiction', 'fiction', 'suspense'], ['parallel', 'fiction'], ['fantasy', 'fiction', 'romance', 'historical'], ['childrens', 'literature', 'young', 'adult', 'literature', 'speculative', 'fiction', 'suspense', 'fiction'], ['science', 'fiction', 'speculative', 'fiction'], ['science', 'fiction', 'speculative', 'fiction'], ['science', 'fiction', 'speculative', 'fiction'], ['fiction', 'comedy'], ['science', 'fiction', 'young', 'adult', 'literature'], ['speculative', 'fiction', 'fiction'], ['fiction'], ['science', 'fiction', 'speculative', 'fiction', 'fiction'], ['science', 'fiction', 'bangsian', 'fantasy', 'speculative', 'fiction', 'romance', 'fantasy', 'fiction'], ['science', 'fiction', 'speculative', 'fiction', 'fiction'], ['science', 'fiction', 'speculative', 'fiction'], ['speculative', 'fiction', 'fantasy'], ['fiction'], ['historical', 'childrens', 'literature', 'reference', 'speculative', 'fiction', 'fiction'], ['childrens', 'literature', 'fiction'], ['fiction'], ['autobiographical'], ['historical'], ['memoir'], ['speculative', 'fiction', 'fantasy'], ['science', 'fiction', 'speculative', 'fiction'], ['science', 'fiction', 'speculative', 'fiction'], ['science', 'fiction', 'speculative', 'fiction', 'fiction', 'space', 'western'], ['crime', 'fiction', 'mystery', 'speculative', 'fiction', 'hardboiled'], ['speculative', 'fiction', 'horror'], ['science', 'fiction', 'speculative', 'fiction'], ['science', 'fiction', 'speculative', 'fiction'], ['thriller', 'fiction'], ['science', 'fiction', 'speculative', 'fiction', 'fiction'], ['crime', 'fiction', 'detective', 'fiction', 'speculative', 'fiction', 'science', 'fiction'], ['science', 'fiction', 'speculative', 'fiction'], ['technothriller', 'fiction', 'adventure'], ['science', 'fiction', 'horror', 'speculative', 'fiction', 'romance', 'mystery', 'fantasy', 'fiction', 'suspense'], ['speculative', 'fiction', 'fantasy', 'romance'], ['nature', 'science', 'fiction', 'fantasy', 'fiction'], ['alternate', 'history'], ['alternate', 'history', 'science', 'fiction'], ['reference', 'fiction'], ['fiction'], ['mystery', 'speculative', 'fiction', 'fantasy'], ['mystery', 'speculative', 'fiction', 'fantasy'], ['mystery', 'speculative', 'fiction', 'fantasy'], ['mystery', 'speculative', 'fiction', 'fantasy'], ['mystery', 'speculative', 'fiction', 'fantasy'], ['mystery', 'speculative', 'fiction', 'fantasy'], ['young', 'adult', 'literature', 'fiction'], ['childrens', 'literature', 'young', 'adult', 'literature', 'fiction'], ['science', 'fiction', 'speculative', 'fiction', 'dystopia', 'military', 'science', 'fiction'], ['biography', 'reference', 'mathematics', 'science'], ['romance'], ['science', 'fiction', 'speculative', 'fiction', 'fantasy', 'dark', 'fantasy', 'high', 'fantasy', 'fiction'], ['science', 'fiction', 'speculative', 'fiction', 'fantasy', 'dark', 'fantasy', 'high', 'fantasy', 'fiction'], ['speculative', 'fiction', 'fantasy', 'dark', 'fantasy', 'high', 'fantasy'], ['speculative', 'fiction', 'fantasy'], ['science', 'fiction', 'speculative', 'fiction', 'fantasy', 'fiction'], ['science', 'fiction', 'speculative', 'fiction', 'military', 'science', 'fiction'], ['mystery', 'historical'], ['speculative', 'fiction', 'fantasy'], ['childrens', 'literature', 'speculative', 'fiction', 'fantasy', 'fiction', 'historical', 'historical', 'fantasy'], ['childrens', 'literature', 'young', 'adult', 'literature', 'fiction', 'romance'], ['crime', 'fiction', 'mystery', 'detective', 'fiction', 'comic', 'comedy'], ['science', 'fiction', 'speculative', 'fiction', 'fiction'], ['childrens', 'literature', 'fantasy', 'speculative', 'fiction', 'fiction'], ['fiction'], ['science', 'fiction', 'speculative', 'fiction'], ['spy', 'fiction'], ['horror', 'speculative', 'fiction', 'romance', 'mystery', 'fantasy', 'fiction'], ['science', 'fiction', 'speculative', 'fiction', 'fantasy', 'fiction'], ['alternate', 'history', 'science', 'fiction', 'speculative', 'fiction', 'fantasy', 'fiction'], ['thriller', 'fiction', 'romance'], [], ['childrens', 'literature'], ['historical'], ['mystery', 'historical'], ['mystery', 'speculative', 'fiction', 'historical'], ['mystery', 'historical'], ['childrens', 'literature', 'young', 'adult', 'literature', 'fiction'], ['childrens', 'literature'], ['play'], ['childrens', 'literature', 'fiction'], ['picture', 'book', 'childrens', 'literature'], ['childrens', 'literature', 'fantasy', 'speculative', 'fiction', 'fiction'], ['science', 'fiction', 'speculative', 'fiction', 'fantasy', 'fiction'], ['science', 'fiction', 'speculative', 'fiction', 'childrens', 'literature', 'fiction'], ['speculative', 'fiction', 'fantasy', 'fiction'], ['mystery', 'romance'], ['young', 'adult', 'literature'], ['crime', 'fiction', 'mystery', 'fiction', 'suspense'], [], ['autobiographical', 'fiction', 'roman', 'clef'], ['childrens', 'literature', 'fiction'], ['science', 'fiction', 'speculative', 'fiction'], ['alternate', 'history', 'young', 'adult', 'literature'], ['speculative', 'fiction'], ['science', 'fiction', 'speculative', 'fiction'], ['science', 'fiction', 'speculative', 'fiction', 'fiction'], ['childrens', 'literature'], ['childrens', 'literature', 'fiction'], ['childrens', 'literature', 'fiction'], ['autobiography', 'biography', 'childrens', 'literature'], ['childrens', 'literature', 'fiction'], [], ['fiction'], ['science', 'fiction', 'speculative', 'fiction', 'fiction'], ['speculative', 'fiction', 'fiction'], ['war', 'speculative', 'fiction', 'adventure'], ['crime', 'fiction', 'mystery', 'fiction', 'suspense'], ['fantasy', 'novella'], ['speculative', 'fiction', 'fantasy'], ['thriller', 'mystery', 'crime', 'fiction', 'fiction', 'suspense'], ['crime', 'fiction', 'mystery', 'fiction'], ['speculative', 'fiction', 'fantasy', 'high', 'fantasy'], ['crime', 'fiction', 'mystery', 'fiction'], ['historical'], ['thriller', 'mystery', 'fiction', 'suspense'], ['politics', 'speculative', 'fiction', 'romance', 'fiction', 'comedy'], [], ['speculative', 'fiction', 'fantasy', 'childrens', 'literature'], ['science', 'fiction', 'childrens', 'literature', 'speculative', 'fiction', 'young', 'adult', 'literature', 'fantasy', 'fiction'], ['childrens', 'literature', 'young', 'adult', 'literature', 'speculative', 'fiction', 'fiction'], ['science', 'fiction', 'young', 'adult', 'literature'], ['fiction'], ['childrens', 'literature', 'fiction'], ['fiction'], ['roman', 'clef', 'satire', 'fiction', 'historical'], ['science', 'fiction', 'speculative', 'fiction'], ['science', 'fiction', 'young', 'adult', 'literature'], ['speculative', 'fiction', 'young', 'adult', 'literature'], ['speculative', 'fiction', 'horror', 'fiction', 'humour'], ['thriller', 'speculative', 'fiction', 'horror', 'fiction'], ['thriller', 'speculative', 'fiction', 'horror'], ['speculative', 'fiction', 'horror', 'fiction', 'humour'], ['science', 'fiction'], ['speculative', 'fiction', 'fantasy'], ['speculative', 'fiction', 'fantasy', 'fiction'], ['speculative', 'fiction', 'historical'], ['science', 'fiction', 'speculative', 'fiction', 'fiction'], [], ['speculative', 'fiction', 'fiction'], ['childrens', 'literature', 'fantasy', 'speculative', 'fiction', 'fiction'], ['childrens', 'literature', 'fiction'], ['mystery', 'detective', 'fiction', 'fiction', 'suspense'], ['speculative', 'fiction'], ['fiction'], ['childrens', 'literature', 'fiction', 'romance'], ['speculative', 'fiction', 'fantasy'], ['historical'], ['psychology'], ['alternate', 'history', 'speculative', 'fiction'], ['science', 'fiction', 'speculative', 'fiction'], ['thriller', 'spy', 'fiction'], ['thriller', 'war', 'mystery', 'fantasy', 'fiction', 'suspense'], ['childrens', 'literature', 'fiction'], ['play'], ['mystery', 'fiction', 'suspense', 'historical'], ['historical', 'fiction'], ['mystery', 'fiction', 'suspense'], ['fiction'], ['mystery', 'fiction', 'suspense'], ['mystery', 'fiction', 'suspense'], ['mystery', 'fiction', 'suspense'], ['fiction'], ['science', 'fiction'], ['speculative', 'fiction', 'fiction'], ['horror', 'speculative', 'fiction', 'mystery', 'suspense', 'fiction'], ['speculative', 'fiction', 'fantasy'], ['fiction'], ['science', 'fiction', 'speculative', 'fiction', 'fantasy', 'fiction'], ['mystery', 'childrens', 'literature', 'young', 'adult', 'literature', 'speculative', 'fiction', 'fiction'], ['childrens', 'literature'], [], ['speculative', 'fiction', 'romance'], [], ['science', 'fiction', 'childrens', 'literature', 'speculative', 'fiction', 'young', 'adult', 'literature', 'fantasy', 'fiction'], ['mystery', 'speculative', 'fiction', 'childrens', 'literature', 'fiction', 'suspense'], ['childrens', 'literature'], ['science', 'fiction', 'speculative', 'fiction'], ['young', 'adult', 'literature', 'fiction'], ['young', 'adult', 'literature'], ['speculative', 'fiction', 'fantasy'], ['speculative', 'fiction', 'fiction'], ['crime', 'fiction', 'mystery', 'fiction', 'suspense'], ['science', 'fiction', 'speculative', 'fiction'], ['childrens', 'literature', 'young', 'adult', 'literature', 'fiction', 'romance'], ['fiction'], ['fantasy', 'speculative', 'fiction', 'horror'], ['fiction'], ['childrens', 'literature', 'historical', 'fiction', 'young', 'adult', 'literature', 'speculative', 'fiction', 'mystery', 'fiction'], ['speculative', 'fiction', 'fiction'], ['childrens', 'literature'], ['fiction', 'bildungsroman'], ['thriller', 'childrens', 'literature', 'adventure', 'spy', 'fiction', 'speculative', 'fiction', 'mystery', 'fiction', 'suspense'], ['fantasy', 'historical', 'fantasy', 'speculative', 'fiction', 'horror', 'fiction'], ['crime', 'fiction', 'mystery'], ['nonfiction'], ['speculative', 'fiction', 'fiction', 'adventure'], ['speculative', 'fiction', 'fantasy', 'fiction'], ['speculative', 'fiction', 'historical', 'fiction'], ['science', 'fiction', 'speculative', 'fiction'], ['thriller', 'fiction'], ['thriller', 'fiction', 'adventure'], ['fiction'], ['mystery', 'fiction'], ['spy', 'fiction'], ['speculative', 'fiction', 'spy', 'fiction'], ['spy', 'fiction'], ['spy', 'fiction'], ['science', 'fiction', 'speculative', 'fiction'], ['science', 'fiction', 'speculative', 'fiction'], ['alternate', 'history', 'science', 'fiction', 'speculative', 'fiction'], ['mystery', 'detective', 'fiction', 'childrens', 'literature', 'fiction'], ['science', 'fiction', 'speculative', 'fiction', 'fantasy', 'fiction'], [], ['science', 'fiction', 'speculative', 'fiction'], ['historical'], ['childrens', 'literature'], ['thriller', 'crime', 'fiction'], ['mystery', 'detective', 'fiction'], ['science', 'fiction', 'speculative', 'fiction', 'fiction'], ['childrens', 'literature'], ['mystery', 'speculative', 'fiction', 'history'], ['mystery', 'speculative', 'fiction', 'childrens', 'literature', 'fiction', 'suspense'], ['science', 'fiction', 'speculative', 'fiction'], ['science', 'fiction', 'speculative', 'fiction', 'space', 'opera', 'fantasy', 'fiction', 'military', 'science', 'fiction'], ['horror', 'science', 'fiction', 'speculative', 'fiction', 'short', 'story', 'fiction'], ['space', 'opera', 'science', 'fiction', 'speculative', 'fiction', 'childrens', 'literature', 'military', 'science', 'fiction'], ['science', 'fiction', 'speculative', 'fiction'], ['science', 'fiction', 'speculative', 'fiction', 'space', 'opera', 'fiction', 'military', 'science', 'fiction'], ['hard', 'science', 'fiction', 'science', 'fiction', 'speculative', 'fiction', 'fiction'], ['science', 'fiction', 'speculative', 'fiction', 'space', 'opera', 'fantasy', 'fiction', 'military', 'science', 'fiction'], ['space', 'opera', 'speculative', 'fiction', 'military', 'science', 'fiction'], ['science', 'fiction', 'speculative', 'fiction', 'space', 'opera', 'fantasy', 'fiction', 'military', 'science', 'fiction'], ['hard', 'science', 'fiction', 'science', 'fiction', 'speculative', 'fiction', 'fiction'], ['science', 'fiction', 'speculative', 'fiction', 'childrens', 'literature', 'fiction'], ['science', 'fiction'], [], ['nonfiction', 'memoir'], ['childrens', 'literature', 'fantasy', 'speculative', 'fiction', 'fiction'], ['fantasy', 'childrens', 'literature', 'young', 'adult', 'literature', 'speculative', 'fiction', 'fiction'], ['fantasy', 'speculative', 'fiction', 'young', 'adult', 'literature', 'fiction'], ['historical', 'fiction', 'fiction', 'romance'], ['speculative', 'fiction', 'childrens', 'literature', 'fiction', 'historical'], ['historical'], ['science', 'fiction', 'speculative', 'fiction'], ['historical', 'fiction', 'fiction'], ['thriller', 'mystery', 'crime', 'fiction', 'fiction', 'suspense'], ['speculative', 'fiction', 'fantasy'], [], ['speculative', 'fiction', 'fantasy'], [], ['fiction'], ['speculative', 'fiction', 'fantasy'], [], ['childrens', 'literature', 'fiction'], ['fiction'], ['speculative', 'fiction', 'fantasy'], ['fantasy'], ['speculative', 'fiction', 'fantasy'], ['science', 'fiction', 'speculative', 'fiction'], ['childrens', 'literature', 'fantasy', 'speculative', 'fiction', 'fiction'], ['science', 'fiction', 'speculative', 'fiction'], ['historical'], ['thriller'], ['science', 'fiction', 'apocalyptic', 'postapocalyptic', 'fiction', 'speculative', 'fiction'], ['thriller', 'mystery', 'science', 'fiction', 'speculative', 'fiction', 'fiction'], ['alternate', 'history', 'speculative', 'fiction'], ['thriller', 'mystery', 'crime', 'fiction', 'fiction', 'suspense'], ['sword', 'sorcery', 'speculative', 'fiction', 'fantasy', 'fiction'], ['science', 'fiction', 'speculative', 'fiction'], ['fiction'], ['spy', 'fiction'], ['crime', 'fiction', 'mystery', 'fiction', 'suspense'], ['horror'], ['science', 'fiction'], ['picture', 'book', 'childrens', 'literature', 'fiction'], ['mystery', 'detective', 'fiction', 'fiction', 'suspense'], ['childrens', 'literature', 'fantasy', 'speculative', 'fiction', 'fiction'], ['childrens', 'literature', 'fantasy', 'speculative', 'fiction', 'fiction'], ['horror', 'speculative', 'fiction', 'fantasy', 'dark', 'fantasy', 'fiction'], ['science', 'fiction', 'speculative', 'fiction', 'fiction'], ['fantasy', 'speculative', 'fiction', 'horror', 'fiction'], ['fiction'], ['mystery', 'detective', 'fiction', 'fiction', 'suspense'], ['speculative', 'fiction', 'horror', 'historical', 'fiction', 'fiction'], ['speculative', 'fiction', 'young', 'adult', 'literature', 'romance'], ['speculative', 'fiction', 'young', 'adult', 'literature', 'romance'], ['crime', 'fiction', 'black', 'comedy', 'satire', 'fiction'], ['young', 'adult', 'literature'], ['fantasy', 'science', 'fiction', 'short', 'story', 'sword', 'sorcery'], ['science', 'fiction', 'speculative', 'fiction', 'young', 'adult', 'literature'], ['childrens', 'literature', 'fantasy', 'speculative', 'fiction', 'fiction'], ['mystery', 'historical'], ['childrens', 'literature', 'young', 'adult', 'literature', 'fiction', 'romance', 'religion'], ['thriller', 'fiction'], ['thriller', 'horror', 'fiction'], ['fiction', 'romance'], ['historical', 'fiction'], ['historical'], ['young', 'adult', 'literature'], ['childrens', 'literature'], ['mystery', 'detective', 'fiction', 'childrens', 'literature', 'fiction'], ['speculative', 'fiction', 'fantasy'], ['childrens', 'literature', 'fiction', 'adventure', 'suspense'], ['technothriller', 'speculative', 'fiction', 'fiction', 'adventure'], ['childrens', 'literature'], ['science', 'fiction', 'speculative', 'fiction'], ['fiction', 'novella'], ['thriller', 'science', 'fiction', 'speculative', 'fiction', 'fiction'], ['science', 'fiction', 'satire', 'technothriller', 'utopian', 'dystopian', 'fiction', 'fiction'], ['childrens', 'literature', 'fiction', 'psychological'], [], ['thriller', 'horror', 'speculative', 'fiction', 'suspense', 'fiction'], ['science', 'fiction', 'speculative', 'fiction', 'young', 'adult', 'literature'], ['space', 'opera', 'science', 'fiction', 'speculative', 'fiction'], ['fiction'], ['comic', 'speculative', 'fiction'], ['vampire', 'fiction', 'horror', 'speculative', 'fiction', 'young', 'adult', 'literature', 'romance', 'fiction'], ['alternate', 'history', 'science', 'fiction', 'speculative', 'fiction', 'fantasy'], ['science', 'fiction', 'speculative', 'fiction', 'fantasy', 'fiction'], ['science', 'fiction', 'speculative', 'fiction', 'fantasy', 'fiction'], ['childrens', 'literature', 'fantasy'], ['speculative', 'fiction', 'fantasy'], ['science', 'fiction', 'speculative', 'fiction'], ['childrens', 'literature', 'fiction'], ['childrens', 'literature', 'young', 'adult', 'literature', 'fiction'], ['childrens', 'literature', 'fiction'], ['childrens', 'literature', 'fiction'], ['science', 'fiction', 'speculative', 'fiction', 'fantasy', 'fiction'], ['science', 'fiction', 'comedy'], ['thriller', 'speculative', 'fiction'], ['speculative', 'fiction', 'young', 'adult', 'literature'], ['fiction'], ['fiction'], ['science', 'fiction', 'speculative', 'fiction', 'fantasy', 'fiction'], ['thriller', 'horror', 'speculative', 'fiction', 'poetry', 'fiction'], ['alternate', 'history', 'science', 'fiction', 'speculative', 'fiction'], ['science', 'fiction', 'speculative', 'fiction'], ['science', 'fiction', 'speculative', 'fiction', 'fantasy', 'fiction'], ['science', 'fiction', 'alternate', 'history', 'speculative', 'fiction', 'fiction', 'dystopia', 'suspense'], ['fiction'], ['fiction'], ['speculative', 'fiction', 'young', 'adult', 'literature'], ['science', 'fiction', 'speculative', 'fiction'], ['crime', 'fiction'], ['reference', 'fiction', 'romance'], ['speculative', 'fiction', 'fantasy'], ['childrens', 'literature'], ['historical'], ['historical'], ['science', 'fiction', 'speculative', 'fiction', 'childrens', 'literature'], ['historical', 'fiction', 'fiction', 'historical'], ['speculative', 'fiction'], ['science', 'fiction', 'speculative', 'fiction', 'childrens', 'literature', 'fiction'], ['fantasy', 'childrens', 'literature', 'young', 'adult', 'literature'], ['science', 'fiction', 'speculative', 'fiction', 'childrens', 'literature', 'fiction'], ['science', 'fiction', 'speculative', 'fiction', 'childrens', 'literature', 'fiction'], ['speculative', 'fiction', 'fantasy', 'fiction'], ['speculative', 'fiction', 'fiction', 'romance'], ['fiction', 'romance'], ['fiction'], ['fiction'], ['fantasy', 'fiction', 'romance'], ['historical', 'fiction', 'fiction', 'historical'], ['fiction'], ['childrens', 'literature', 'young', 'adult', 'literature', 'fiction', 'adventure'], ['science', 'fiction', 'speculative', 'fiction'], ['horror'], ['philosophy'], ['science', 'fiction'], ['childrens', 'literature'], ['science', 'fiction', 'speculative', 'fiction', 'fantasy', 'fiction'], ['childrens', 'literature', 'fantasy', 'speculative', 'fiction', 'fiction'], ['picture', 'book'], ['science', 'fiction', 'speculative', 'fiction', 'fantasy'], ['speculative', 'fiction', 'fantasy', 'fiction'], ['childrens', 'literature', 'fantasy', 'speculative', 'fiction', 'fiction'], ['mystery', 'speculative', 'fiction', 'childrens', 'literature', 'fiction'], ['speculative', 'fiction', 'childrens', 'literature', 'fiction'], ['speculative', 'fiction', 'fantasy'], ['speculative', 'fiction', 'fantasy'], ['speculative', 'fiction', 'fantasy'], ['speculative', 'fiction', 'fantasy', 'fiction'], ['childrens', 'literature', 'fiction'], ['childrens', 'literature', 'fiction'], ['science', 'fiction', 'speculative', 'fiction', 'fantasy', 'fiction'], ['science', 'fiction', 'speculative', 'fiction', 'fiction'], ['science', 'fiction', 'speculative', 'fiction', 'fiction'], ['mystery', 'detective', 'fiction', 'fiction', 'suspense'], ['historical', 'fiction'], ['speculative', 'fiction', 'childrens', 'literature', 'fiction', 'romance'], ['fiction'], [], ['speculative', 'fiction', 'childrens', 'literature', 'fiction'], ['science', 'fiction', 'speculative', 'fiction', 'fantasy', 'fiction'], ['fiction'], ['science', 'fiction', 'speculative', 'fiction', 'fantasy', 'fiction'], ['crime', 'fiction', 'mystery', 'fiction', 'suspense'], ['childrens', 'literature', 'fiction'], ['childrens', 'literature'], ['childrens', 'literature'], ['crime', 'fiction'], ['fiction'], ['speculative', 'fiction', 'fantasy'], ['science', 'fiction', 'speculative', 'fiction'], ['fiction'], ['fiction'], ['science', 'fiction', 'speculative', 'fiction'], ['speculative', 'fiction', 'fantasy', 'fiction'], ['detective', 'fiction'], ['historical', 'fiction', 'fiction', 'romance', 'historical'], ['childrens', 'literature', 'fiction'], ['speculative', 'fiction', 'fantasy'], [], ['science', 'fiction', 'speculative', 'fiction'], ['childrens', 'literature', 'fiction'], ['childrens', 'literature', 'fiction'], ['fiction', 'philosophy'], ['speculative', 'fiction', 'fantasy', 'comedy', 'fiction'], ['speculative', 'fiction', 'young', 'adult', 'literature'], ['childrens', 'literature'], ['music', 'fiction'], ['mystery', 'detective', 'fiction', 'fiction', 'suspense'], ['science', 'fiction', 'speculative', 'fiction', 'fiction'], ['thriller', 'mystery', 'speculative', 'fiction', 'fiction'], ['science', 'fiction', 'speculative', 'fiction', 'fiction'], ['crime', 'fiction', 'mystery', 'fiction', 'suspense'], ['crime', 'fiction', 'mystery', 'fiction', 'suspense'], ['crime', 'fiction', 'fiction', 'suspense'], ['crime', 'fiction', 'mystery', 'speculative', 'fiction', 'fiction', 'suspense'], ['crime', 'fiction'], ['crime', 'fiction', 'mystery', 'fiction'], ['crime', 'fiction'], ['crime', 'fiction', 'mystery', 'fiction', 'suspense'], ['childrens', 'literature', 'fiction'], ['science', 'fiction', 'speculative', 'fiction', 'fiction'], ['science', 'fiction', 'speculative', 'fiction', 'fantasy', 'fiction'], ['nature', 'science', 'fiction', 'speculative', 'fiction', 'fantasy', 'fiction'], ['fiction'], ['historical', 'fiction', 'fiction'], ['horror', 'speculative', 'fiction', 'zombie', 'fiction'], ['crime', 'fiction', 'mystery', 'fiction'], ['childrens', 'literature', 'fiction'], ['fiction'], ['satire', 'fantasy', 'speculative', 'fiction', 'comedy'], ['childrens', 'literature'], ['childrens', 'literature', 'young', 'adult', 'literature', 'speculative', 'fiction', 'fiction'], ['young', 'adult', 'literature', 'childrens', 'literature', 'historical', 'fiction', 'fiction', 'historical'], ['fiction'], ['thriller', 'childrens', 'literature', 'speculative', 'fiction', 'suspense', 'fiction'], ['science', 'fiction', 'speculative', 'fiction', 'fiction'], ['speculative', 'fiction', 'childrens', 'literature'], [], ['fiction', 'historical'], ['speculative', 'fiction', 'horror', 'fiction'], ['speculative', 'fiction'], ['crime', 'fiction', 'science', 'fiction', 'speculative', 'fiction'], ['science', 'fiction', 'speculative', 'fiction', 'fantasy', 'fiction'], ['literary', 'fiction', 'fiction'], ['speculative', 'fiction', 'fantasy', 'fiction'], ['speculative', 'fiction', 'fantasy', 'childrens', 'literature'], ['crime', 'fiction'], ['historical', 'fantasy', 'speculative', 'fiction', 'fantasy', 'fiction', 'high', 'fantasy'], ['science', 'fiction', 'speculative', 'fiction', 'fantasy', 'fiction', 'historical', 'fantasy', 'high', 'fantasy'], ['speculative', 'fiction', 'fantasy', 'high', 'fantasy'], [], ['crime', 'fiction', 'mystery', 'fantasy', 'fiction', 'suspense'], ['speculative', 'fiction', 'young', 'adult', 'literature', 'fiction'], ['poetry'], ['thriller', 'childrens', 'literature', 'fiction', 'suspense'], ['speculative', 'fiction', 'childrens', 'literature', 'fiction'], ['magic', 'realism'], ['speculative', 'fiction', 'horror', 'fiction'], ['childrens', 'literature'], ['thriller', 'fiction'], ['mystery', 'fiction'], ['fantasy', 'science', 'fiction', 'speculative', 'fiction', 'young', 'adult', 'literature', 'childrens', 'literature'], ['speculative', 'fiction', 'fiction'], ['mystery', 'childrens', 'literature', 'fiction', 'suspense'], [], ['thriller', 'mystery', 'crime', 'fiction'], ['mystery', 'detective', 'fiction'], ['childrens', 'literature', 'fantasy'], ['speculative', 'fiction', 'young', 'adult', 'literature'], ['science', 'fiction', 'speculative', 'fiction', 'fantasy', 'fiction'], ['science', 'fiction', 'speculative', 'fiction', 'fantasy'], ['science', 'fiction', 'childrens', 'literature', 'fantasy', 'speculative', 'fiction', 'fiction'], ['fiction', 'historical'], ['childrens', 'literature', 'fantasy'], ['childrens', 'literature', 'young', 'adult', 'literature'], ['speculative', 'fiction', 'childrens', 'literature', 'fiction'], ['historical'], ['fiction'], ['mystery'], ['fiction'], ['speculative', 'fiction', 'horror', 'fiction', 'parallel'], ['fiction', 'historical'], ['fiction', 'historical'], ['historical', 'fiction', 'fiction', 'historical'], ['speculative', 'fiction', 'fantasy'], ['speculative', 'fiction'], ['thriller', 'mystery', 'fiction', 'suspense'], ['mystery', 'hardboiled', 'young', 'adult', 'literature', 'fiction'], ['speculative', 'fiction', 'fantasy', 'fiction'], ['science', 'fiction', 'speculative', 'fiction'], ['speculative', 'fiction', 'dystopia'], ['mystery', 'speculative', 'fiction'], [], ['sword', 'sorcery', 'speculative', 'fiction', 'fantasy', 'fiction'], ['speculative', 'fiction', 'horror'], ['fiction'], ['childrens', 'literature', 'fantasy', 'speculative', 'fiction', 'fiction'], ['sword', 'sorcery', 'speculative', 'fiction', 'fantasy'], ['crime', 'fiction'], ['speculative', 'fiction', 'fantasy', 'childrens', 'literature'], [], ['fiction'], ['speculative', 'fiction', 'fantasy', 'childrens', 'literature'], ['reference', 'fiction'], ['science', 'fiction', 'speculative', 'fiction', 'historical', 'fiction', 'science', 'fantasy', 'fiction'], ['young', 'adult', 'literature', 'childrens', 'literature', 'reference', 'historical', 'fiction', 'fiction'], ['childrens', 'literature', 'fantasy', 'speculative', 'fiction', 'fiction'], ['speculative', 'fiction', 'fantasy', 'childrens', 'literature'], ['science', 'fiction', 'speculative', 'fiction', 'fiction'], ['psychological'], [], ['crime', 'fiction'], ['crime', 'fiction'], ['crime', 'fiction'], ['childrens', 'literature', 'young', 'adult', 'literature', 'speculative', 'fiction', 'fiction'], ['young', 'adult', 'literature'], ['science', 'fiction', 'speculative', 'fiction', 'fiction'], ['historical'], ['science', 'fiction', 'speculative', 'fiction', 'fantasy'], ['science', 'fiction', 'speculative', 'fiction'], ['gothic', 'fiction', 'young', 'adult', 'literature', 'speculative', 'fiction', 'horror'], ['science', 'fiction', 'speculative', 'fiction'], ['alternate', 'history', 'speculative', 'fiction', 'childrens', 'literature'], ['mystery', 'fantasy', 'fiction', 'suspense'], ['fiction'], ['science', 'fiction', 'speculative', 'fiction'], ['speculative', 'fiction', 'fantasy'], ['science', 'fiction', 'speculative', 'fiction', 'dystopia'], ['thriller', 'mystery'], ['speculative', 'fiction'], ['fiction'], ['war'], ['fiction'], ['childrens', 'literature', 'young', 'adult', 'literature'], ['thriller', 'mystery', 'crime', 'fiction', 'fiction', 'suspense'], [], ['roman', 'clef'], ['science', 'fiction', 'speculative', 'fiction'], ['science', 'fiction', 'speculative', 'fiction'], ['crime', 'fiction', 'mystery', 'fiction'], ['fiction'], ['gothic', 'fiction', 'speculative', 'fiction'], ['crime', 'fiction', 'mystery', 'horror', 'fiction', 'suspense'], ['horror', 'speculative', 'fiction', 'young', 'adult', 'literature', 'romance', 'fantasy', 'fiction'], ['science', 'fiction', 'speculative', 'fiction', 'fiction'], ['crime', 'fiction', 'detective', 'fiction', 'speculative', 'fiction'], ['thriller', 'mystery', 'crime', 'fiction', 'fiction', 'suspense'], ['speculative', 'fiction'], ['spy', 'fiction'], ['historical', 'fiction'], ['science', 'fiction', 'fantasy', 'fiction'], ['science', 'fiction', 'speculative', 'fiction', 'fantasy', 'fiction'], ['science', 'fiction', 'speculative', 'fiction'], ['science', 'fiction', 'speculative', 'fiction'], ['science', 'fiction', 'speculative', 'fiction'], ['science', 'fiction', 'speculative', 'fiction', 'fantasy', 'fiction'], ['fiction'], ['science', 'fiction', 'speculative', 'fiction'], ['science', 'fiction', 'speculative', 'fiction'], ['science', 'fiction', 'speculative', 'fiction', 'young', 'adult', 'literature'], ['childrens', 'literature', 'fiction'], ['speculative', 'fiction', 'historical', 'fiction', 'fiction'], ['crime', 'fiction', 'speculative', 'fiction', 'horror'], ['childrens', 'literature', 'fantasy'], ['speculative', 'fiction', 'fantasy'], ['fiction', 'suspense'], [], ['gay'], ['speculative', 'fiction', 'fantasy'], ['childrens', 'literature', 'fiction'], ['science', 'fiction', 'speculative', 'fiction'], ['science', 'fiction', 'speculative', 'fiction', 'erotica', 'fiction'], [], ['autobiographical', 'fiction'], ['speculative', 'fiction', 'young', 'adult', 'literature'], ['fiction'], ['childrens', 'literature', 'fiction'], ['science', 'fiction', 'speculative', 'fiction'], ['science', 'fiction', 'speculative', 'fiction'], ['fiction'], ['childrens', 'literature', 'young', 'adult', 'literature', 'fiction'], ['historical', 'fiction', 'historical', 'whodunnit', 'romance', 'mystery', 'suspense', 'regency', 'romance', 'fiction'], ['historical', 'fiction', 'fiction', 'romance', 'historical'], ['mystery', 'historical', 'fiction', 'fiction', 'romance', 'suspense'], ['fiction'], ['childrens', 'literature', 'fiction'], ['mystery', 'historical', 'fiction', 'fiction', 'romance', 'regency', 'romance'], ['mystery', 'historical', 'fiction', 'fiction', 'romance', 'suspense'], ['mystery', 'historical', 'fiction', 'fiction', 'romance', 'suspense'], ['historical', 'fiction', 'romance', 'mystery', 'fiction', 'regency', 'romance', 'suspense'], ['mystery', 'historical', 'fiction', 'fiction', 'romance', 'suspense'], ['mystery', 'historical', 'fiction', 'fiction', 'suspense', 'historical'], ['biography', 'historical', 'fiction', 'romance', 'mystery', 'fiction', 'historical', 'suspense'], ['historical', 'fiction', 'childrens', 'literature', 'fiction'], ['science', 'fiction', 'speculative', 'fiction', 'fiction'], ['historical', 'fiction'], ['science', 'fiction', 'speculative', 'fiction'], ['science', 'fiction', 'speculative', 'fiction'], ['mystery', 'fiction', 'suspense'], ['science', 'fiction', 'speculative', 'fiction'], ['science', 'fiction', 'speculative', 'fiction', 'fiction'], ['science', 'fiction', 'speculative', 'fiction'], ['crime', 'fiction'], ['historical', 'fiction', 'historical'], ['crime', 'fiction', 'mystery', 'fiction', 'suspense'], ['speculative', 'fiction'], ['fiction'], ['historical'], ['speculative', 'fiction', 'childrens', 'literature'], ['crime', 'fiction', 'mystery', 'fiction'], ['literary', 'fiction'], ['nature', 'nonfiction'], ['fantasy', 'speculative', 'fiction', 'urban', 'fantasy', 'romance', 'paranormal', 'romance'], ['science', 'fiction', 'speculative', 'fiction'], ['science', 'fiction', 'speculative', 'fiction', 'fantasy', 'fiction'], ['historical', 'fiction', 'childrens', 'literature', 'young', 'adult', 'literature', 'speculative', 'fiction', 'fiction'], ['thriller', 'mystery', 'fiction'], ['historical', 'fiction'], ['fantasy'], ['fiction'], ['speculative', 'fiction'], ['comedy'], ['science', 'fiction', 'speculative', 'fiction', 'fantasy'], ['science', 'fiction', 'speculative', 'fiction', 'fiction'], ['horror'], ['speculative', 'fiction', 'fantasy'], ['fantasy', 'speculative', 'fiction', 'horror'], ['crime', 'fiction', 'mystery'], ['crime', 'fiction', 'mystery'], ['crime', 'fiction', 'mystery'], ['crime', 'fiction', 'mystery'], ['science', 'fiction', 'speculative', 'fiction'], ['science', 'fiction', 'speculative', 'fiction'], ['hard', 'science', 'fiction', 'time', 'travel', 'speculative', 'fiction', 'science', 'fiction', 'fiction'], ['childrens', 'literature', 'fiction'], ['fiction'], [], ['science', 'fiction', 'speculative', 'fiction', 'steampunk'], ['picture', 'book', 'childrens', 'literature'], ['autobiographical', 'war'], ['thriller', 'mystery', 'fiction'], ['childrens', 'literature', 'fiction', 'historical'], ['fantasy', 'speculative', 'fiction', 'horror'], ['science', 'fiction', 'speculative', 'fiction', 'fantasy', 'fiction'], ['childrens', 'literature', 'fantasy', 'speculative', 'fiction', 'fiction'], ['fiction'], ['historical'], ['science', 'fiction', 'childrens', 'literature', 'young', 'adult', 'literature', 'speculative', 'fiction', 'fiction'], ['fiction'], ['mystery', 'fiction'], ['science', 'fiction', 'speculative', 'fiction'], ['gothic', 'fiction', 'young', 'adult', 'literature'], ['picture', 'book'], ['historical', 'romance', 'young', 'adult', 'literature', 'romance', 'historical'], ['speculative', 'fiction', 'adventure'], ['crime', 'fiction', 'mystery', 'fiction', 'suspense'], ['thriller', 'mystery', 'speculative', 'fiction', 'fiction'], ['childrens', 'literature'], ['childrens', 'literature'], ['thriller', 'science', 'fiction', 'alternate', 'history', 'speculative', 'fiction', 'mystery', 'fiction', 'dystopia'], ['childrens', 'literature', 'young', 'adult', 'literature', 'fiction'], ['crime', 'fiction', 'mystery'], ['crime', 'fiction', 'mystery', 'fiction', 'suspense'], ['mystery', 'fiction'], ['crime', 'fiction', 'mystery'], ['speculative', 'fiction', 'fantasy'], ['speculative', 'fiction', 'fantasy'], ['mystery', 'speculative', 'fiction', 'historical', 'fiction', 'fiction', 'suspense'], ['crime', 'fiction', 'mystery', 'fiction', 'suspense'], ['speculative', 'fiction', 'historical', 'fiction'], [], ['fiction'], ['speculative', 'fiction'], ['childrens', 'literature', 'young', 'adult', 'literature'], ['childrens', 'literature', 'speculative', 'fiction', 'young', 'adult', 'literature', 'war', 'fiction', 'historical'], ['speculative', 'fiction', 'fantasy'], ['childrens', 'literature', 'fiction'], [], ['speculative', 'fiction', 'fantasy', 'childrens', 'literature'], ['speculative', 'fiction', 'fantasy', 'childrens', 'literature'], ['mystery', 'fiction', 'suspense'], ['childrens', 'literature', 'fiction', 'historical'], ['childrens', 'literature', 'fiction'], ['childrens', 'literature', 'fiction'], ['fantasy', 'speculative', 'fiction', 'young', 'adult', 'literature', 'fiction'], ['mystery', 'spy', 'fiction', 'fiction', 'suspense'], [], ['childrens', 'literature'], ['science', 'fiction', 'childrens', 'literature', 'horror', 'speculative', 'fiction', 'young', 'adult', 'literature', 'fiction', 'music'], ['thriller', 'crime', 'fiction', 'speculative', 'fiction'], ['crime', 'fiction', 'mystery', 'fiction', 'suspense'], ['crime', 'fiction', 'mystery', 'fiction', 'suspense'], ['crime', 'fiction', 'mystery', 'fiction', 'suspense'], ['childrens', 'literature', 'fiction'], ['romance'], ['childrens', 'literature'], ['historical', 'fiction', 'fiction', 'historical'], ['science', 'fiction', 'speculative', 'fiction'], ['fiction'], ['childrens', 'literature', 'fiction'], ['childrens', 'literature', 'fiction'], ['childrens', 'literature', 'fiction'], ['childrens', 'literature'], ['speculative', 'fiction', 'fantasy'], ['fiction'], ['childrens', 'literature'], ['thriller'], ['science', 'fiction', 'childrens', 'literature', 'speculative', 'fiction', 'young', 'adult', 'literature', 'fantasy', 'fiction'], ['science', 'fiction', 'speculative', 'fiction', 'fantasy', 'fiction'], ['speculative', 'fiction', 'childrens', 'literature', 'fiction'], ['fiction'], ['crime', 'fiction', 'true', 'crime'], ['romance', 'fiction', 'novella'], ['picture', 'book', 'childrens', 'literature', 'mathematics'], ['romance'], ['fiction', 'romance'], ['speculative', 'fiction', 'fantasy'], ['science', 'fiction', 'speculative', 'fiction', 'fantasy', 'fiction'], ['gothic', 'fiction', 'fiction'], ['crime', 'fiction'], ['crime', 'fiction'], [], ['historical', 'fiction'], ['historical', 'fiction'], [], ['childrens', 'literature'], ['childrens', 'literature', 'fantasy'], ['comedy'], ['fiction'], ['childrens', 'literature'], ['thriller', 'mystery', 'fiction', 'suspense'], ['science', 'fiction', 'speculative', 'fiction', 'fiction'], ['thriller', 'mystery', 'fiction', 'suspense'], ['historical', 'fiction'], ['crime', 'fiction', 'fiction'], ['thriller', 'mystery', 'fiction', 'suspense'], ['thriller', 'mystery', 'fiction', 'suspense'], ['thriller', 'mystery', 'fiction', 'suspense'], ['thriller', 'mystery', 'fiction', 'suspense'], ['science', 'fiction'], ['thriller', 'mystery', 'fiction', 'suspense'], ['thriller', 'mystery', 'fiction', 'suspense'], ['historical'], [], ['history', 'speculative', 'fiction', 'fiction'], ['mystery', 'detective', 'fiction', 'fiction', 'suspense'], ['mystery', 'detective', 'fiction', 'fiction', 'suspense'], ['mystery', 'detective', 'fiction', 'fiction', 'suspense'], ['detective', 'fiction'], ['mystery', 'detective', 'fiction', 'fiction', 'suspense'], ['mystery', 'detective', 'fiction', 'fiction', 'suspense'], ['science', 'fiction', 'speculative', 'fiction', 'fiction'], ['speculative', 'fiction', 'fantasy', 'fiction', 'romance'], ['childrens', 'literature', 'young', 'adult', 'literature', 'fiction'], ['high', 'fantasy', 'speculative', 'fiction', 'fantasy', 'fiction'], ['science', 'fiction', 'speculative', 'fiction', 'fantasy', 'fiction'], ['travel', 'literature', 'speculative', 'fiction', 'fiction'], ['fiction', 'romance'], ['speculative', 'fiction'], ['romance'], ['speculative', 'fiction', 'fantasy'], ['fiction'], ['childrens', 'literature', 'fiction', 'romance'], ['autobiography', 'biography', 'childrens', 'literature', 'nonfiction'], ['science', 'fiction', 'speculative', 'fiction', 'transhumanism'], ['science', 'fiction', 'speculative', 'fiction', 'fantasy', 'fiction'], ['mystery', 'detective', 'fiction', 'fiction', 'suspense'], ['fiction'], ['childrens', 'literature', 'fantasy'], ['science', 'fiction', 'speculative', 'fiction'], ['speculative', 'fiction', 'fantasy', 'childrens', 'literature', 'high', 'fantasy'], [], ['thriller', 'mystery', 'speculative', 'fiction', 'crime', 'fiction', 'suspense'], ['fiction', 'historical'], ['science', 'fiction', 'urban', 'fantasy', 'speculative', 'fiction', 'contemporary', 'fantasy', 'fantasy', 'manners', 'fantasy', 'fiction'], ['speculative', 'fiction', 'historical', 'fiction', 'romance', 'mystery', 'suspense', 'fiction'], ['mystery', 'detective', 'fiction', 'fiction', 'suspense'], ['thriller', 'mystery', 'fiction'], ['thriller', 'speculative', 'fiction'], ['speculative', 'fiction', 'fantasy'], ['science', 'fiction', 'speculative', 'fiction'], ['thriller'], ['science', 'fiction', 'speculative', 'fiction', 'fiction'], ['mystery', 'detective', 'fiction', 'fiction', 'suspense'], [], ['fiction'], ['science', 'fiction', 'speculative', 'fiction'], ['science', 'fiction', 'speculative', 'fiction'], ['science', 'fiction', 'childrens', 'literature', 'feminist', 'science', 'fiction', 'speculative', 'fiction', 'social', 'science', 'fiction', 'utopian', 'dystopian', 'fiction', 'fantasy', 'fiction'], ['childrens', 'literature', 'fiction'], ['detective', 'fiction'], ['mystery', 'detective', 'fiction', 'fiction', 'suspense'], ['science', 'fiction', 'speculative', 'fiction'], ['science', 'fiction', 'speculative', 'fiction', 'fantasy', 'fiction'], ['autobiography', 'biography', 'speculative', 'fiction', 'fiction'], ['childrens', 'literature'], ['childrens', 'literature'], ['science', 'fiction', 'speculative', 'fiction', 'fiction'], ['childrens', 'literature', 'young', 'adult', 'literature', 'fiction', 'humour'], ['young', 'adult', 'literature'], ['young', 'adult', 'literature'], ['childrens', 'literature', 'young', 'adult', 'literature', 'fiction'], ['science', 'fiction'], ['speculative', 'fiction'], ['crime', 'fiction', 'mystery', 'fiction', 'suspense'], ['fiction'], ['mystery', 'childrens', 'literature', 'fiction', 'adventure'], ['fiction'], ['biographical', 'fiction'], ['mystery', 'speculative', 'fiction', 'fiction', 'suspense'], ['childrens', 'literature', 'fantasy', 'speculative', 'fiction', 'fiction'], [], ['mystery', 'fiction'], ['western', 'childrens', 'literature', 'fiction'], ['speculative', 'fiction', 'fantasy', 'romance'], ['historical', 'fiction', 'childrens', 'literature', 'fiction'], ['fiction'], ['childrens', 'literature'], ['science', 'fiction', 'speculative', 'fiction', 'fiction'], ['urban', 'fiction', 'literary', 'fiction', 'fiction'], ['childrens', 'literature', 'fiction'], ['science', 'fiction'], ['speculative', 'fiction', 'childrens', 'literature', 'fiction'], ['childrens', 'literature', 'fantasy', 'speculative', 'fiction', 'fiction'], ['crime', 'fiction'], ['science', 'fiction', 'speculative', 'fiction', 'soft', 'science', 'fiction'], ['thriller'], ['fiction'], ['childrens', 'literature', 'fantasy', 'fiction'], ['speculative', 'fiction'], ['speculative', 'fiction', 'fantasy', 'romance'], ['novella'], ['philosophy', 'nonfiction'], ['alternate', 'history', 'speculative', 'fiction'], ['childrens', 'literature', 'young', 'adult', 'literature', 'fiction'], ['black', 'comedy', 'comedy'], ['speculative', 'fiction', 'fantasy'], ['childrens', 'literature'], ['speculative', 'fiction', 'fantasy'], ['mystery', 'science', 'fiction', 'speculative', 'fiction'], ['mystery', 'speculative', 'fiction', 'fiction', 'suspense'], ['speculative', 'fiction', 'fantasy', 'fiction'], ['thriller', 'mystery', 'fiction', 'suspense'], ['thriller', 'fiction', 'suspense'], ['speculative', 'fiction', 'fiction'], ['fiction', 'humour'], ['fantasy', 'childrens', 'literature', 'young', 'adult', 'literature', 'speculative', 'fiction', 'fiction'], ['crime', 'fiction', 'mystery', 'fiction', 'suspense'], ['speculative', 'fiction', 'fantasy'], ['science', 'fiction', 'speculative', 'fiction'], ['speculative', 'fiction', 'fantasy', 'fiction', 'romance'], ['speculative', 'fiction', 'fantasy', 'romance'], [], ['science', 'fiction', 'speculative', 'fiction'], ['speculative', 'fiction', 'fantasy'], ['science', 'fiction', 'speculative', 'fiction', 'fantasy', 'fiction'], ['fiction'], ['horror', 'fiction'], ['western', 'childrens', 'literature', 'fiction'], ['mystery', 'detective', 'fiction', 'speculative', 'fiction', 'childrens', 'literature', 'fiction'], ['crime', 'fiction', 'mystery', 'fiction', 'suspense'], ['speculative', 'fiction'], ['crime', 'fiction', 'mystery', 'fiction', 'suspense'], ['childrens', 'literature', 'young', 'adult', 'literature', 'fiction'], ['thriller', 'mystery', 'fiction', 'suspense'], ['lost', 'world', 'fantasy'], ['childrens', 'literature', 'fantasy'], ['childrens', 'literature', 'fantasy'], ['childrens', 'literature', 'fantasy'], ['childrens', 'literature', 'fantasy'], ['gothic', 'fiction', 'young', 'adult', 'literature'], ['childrens', 'literature', 'fantasy'], ['childrens', 'literature', 'fantasy'], ['childrens', 'literature', 'fantasy'], ['alternate', 'history', 'science', 'fiction', 'apocalyptic', 'postapocalyptic', 'fiction', 'speculative', 'fiction'], ['childrens', 'literature', 'young', 'adult', 'literature'], ['mystery', 'childrens', 'literature', 'horror', 'fiction'], ['adventure'], ['fantasy', 'childrens', 'literature', 'young', 'adult', 'literature', 'speculative', 'fiction', 'fiction'], ['comic', 'fiction', 'comedy'], ['science', 'fiction', 'speculative', 'fiction'], ['thriller'], ['science', 'fiction', 'childrens', 'literature', 'fantasy', 'speculative', 'fiction', 'fiction'], ['gay', 'fiction'], ['fiction'], ['fiction'], [], ['science', 'fiction', 'speculative', 'fiction'], ['speculative', 'fiction', 'fantasy', 'romance'], ['speculative', 'fiction', 'fantasy', 'fiction', 'romance'], ['dystopia'], ['alternate', 'history', 'historical', 'fiction', 'steampunk'], [], [], ['mystery', 'childrens', 'literature', 'fiction', 'adventure'], [], ['science', 'fiction', 'speculative', 'fiction'], [], ['science', 'fiction', 'speculative', 'fiction'], ['mystery', 'fantasy'], ['biography'], ['business', 'crime', 'fiction', 'childrens', 'literature', 'mystery', 'fiction', 'suspense'], ['speculative', 'fiction', 'fantasy', 'romance'], ['magic', 'realism'], ['thriller'], ['black', 'comedy', 'war'], ['science', 'fiction', 'speculative', 'fiction'], ['fiction'], ['satire'], ['science', 'fiction', 'fantasy', 'fiction'], ['childrens', 'literature', 'young', 'adult', 'literature', 'fiction'], ['speculative', 'fiction', 'fantasy', 'romance'], ['speculative', 'fiction', 'fantasy', 'fiction', 'romance'], ['science', 'fiction', 'speculative', 'fiction'], ['crime', 'fiction', 'detective', 'fiction'], ['science', 'fiction', 'speculative', 'fiction'], ['speculative', 'fiction'], ['science', 'fiction', 'speculative', 'fiction'], ['speculative', 'fiction', 'fantasy'], ['childrens', 'literature'], ['childrens', 'literature'], ['speculative', 'fiction', 'fiction', 'romance'], ['fiction'], ['modernism'], ['science', 'fiction', 'speculative', 'fiction', 'dystopia'], ['childrens', 'literature', 'fiction'], ['mystery', 'whodunit', 'suspense', 'fiction'], ['crime', 'fiction', 'detective', 'fiction', 'speculative', 'fiction'], ['mystery', 'detective', 'fiction'], ['speculative', 'fiction', 'fantasy'], ['nonfiction'], ['gothic', 'fiction', 'childrens', 'literature', 'horror', 'speculative', 'fiction', 'fiction'], ['gothic', 'fiction', 'young', 'adult', 'literature'], ['speculative', 'fiction', 'fantasy'], ['fiction', 'suspense'], ['fiction'], ['fiction'], ['mystery', 'detective', 'fiction', 'fiction', 'suspense'], ['science', 'fiction', 'speculative', 'fiction'], ['mystery'], ['picture', 'book'], ['speculative', 'fiction', 'fantasy'], ['historical', 'fiction'], ['science', 'fiction', 'speculative', 'fiction'], ['speculative', 'fiction'], ['fiction', 'historical'], ['western', 'fiction'], ['parody'], ['crime', 'fiction', 'mystery'], ['crime', 'fiction', 'mystery'], ['crime', 'fiction', 'mystery'], ['crime', 'fiction', 'mystery'], ['crime', 'fiction', 'mystery'], ['crime', 'fiction', 'mystery'], ['crime', 'fiction', 'mystery'], ['crime', 'fiction', 'mystery'], [], ['thriller', 'spy', 'fiction', 'fiction'], ['alternate', 'history', 'science', 'fiction', 'speculative', 'fiction', 'fantasy', 'fiction'], ['fiction'], ['fiction'], ['crime', 'fiction', 'mystery'], ['fiction', 'romance'], ['dying', 'earth', 'subgenre', 'speculative', 'fiction', 'fantasy'], ['crime', 'fiction'], ['speculative', 'fiction', 'childrens', 'literature', 'fiction', 'romance'], ['speculative', 'fiction', 'fantasy', 'childrens', 'literature'], ['science', 'fiction', 'speculative', 'fiction', 'historical', 'fiction', 'fantasy', 'fiction', 'historical'], ['young', 'adult', 'literature'], ['fantasy', 'childrens', 'literature', 'young', 'adult', 'literature', 'speculative', 'fiction', 'fiction'], ['thriller'], ['childrens', 'literature', 'fiction'], ['mystery', 'whodunit', 'suspense', 'fiction'], ['science', 'fiction', 'young', 'adult', 'literature'], ['science', 'fiction', 'fantasy', 'sociology', 'fiction'], ['childrens', 'literature', 'fantasy', 'speculative', 'fiction', 'fiction'], ['speculative', 'fiction', 'childrens', 'literature', 'fiction'], ['childrens', 'literature', 'fiction'], ['childrens', 'literature', 'fiction', 'romance'], ['fiction'], ['thriller', 'mystery', 'fiction', 'historical'], ['speculative', 'fiction', 'fiction', 'romance'], ['childrens', 'literature', 'young', 'adult', 'literature', 'fiction'], ['western', 'childrens', 'literature', 'fiction'], ['thriller', 'mystery', 'crime', 'fiction', 'fiction', 'suspense'], ['thriller', 'mystery', 'fiction', 'suspense'], ['mystery', 'detective', 'fiction', 'fiction'], ['childrens', 'literature', 'young', 'adult', 'literature', 'fiction'], ['mystery', 'detective', 'fiction', 'fiction', 'suspense'], ['childrens', 'literature'], ['speculative', 'fiction', 'fiction'], ['crime', 'fiction', 'mystery', 'speculative', 'fiction', 'fiction', 'suspense'], ['mystery', 'speculative', 'fiction'], ['mystery', 'fiction', 'suspense'], ['speculative', 'fiction', 'fantasy'], ['fiction'], ['historical'], ['fiction'], ['science', 'fiction', 'speculative', 'fiction', 'childrens', 'literature', 'fiction'], ['crime', 'fiction', 'mystery', 'fiction', 'suspense'], [], [], ['mystery', 'detective', 'fiction', 'fiction', 'suspense'], ['crime', 'fiction', 'mystery'], ['science', 'fiction', 'speculative', 'fiction'], ['childrens', 'literature', 'fiction'], ['spy', 'fiction', 'fiction'], ['reference', 'nonfiction'], [], ['speculative', 'fiction', 'fiction'], ['childrens', 'literature', 'fiction'], ['historical'], ['science', 'fiction', 'speculative', 'fiction', 'fiction'], ['alternate', 'history', 'speculative', 'fiction', 'horror'], ['speculative', 'fiction', 'fiction'], ['speculative', 'fiction', 'spy', 'fiction', 'war', 'historical'], ['fiction'], ['speculative', 'fiction', 'dystopia', 'utopian', 'dystopian', 'fiction'], ['childrens', 'literature', 'fiction', 'comedy'], ['childrens', 'literature', 'fiction'], ['horror'], ['dystopia', 'alternate', 'history', 'speculative', 'fiction', 'fiction', 'utopian', 'dystopian', 'fiction'], ['science', 'fiction', 'speculative', 'fiction'], ['autobiographical', 'childrens', 'literature'], ['thriller', 'speculative', 'fiction', 'fiction'], ['young', 'adult', 'literature', 'childrens', 'literature', 'historical', 'fiction', 'fiction'], [], ['young', 'adult', 'literature'], ['mystery', 'detective', 'fiction', 'fiction', 'suspense'], ['speculative', 'fiction', 'fantasy'], ['thriller', 'western'], ['thriller'], ['crime', 'fiction', 'speculative', 'fiction'], [], ['fiction'], ['speculative', 'fiction'], ['science', 'fiction', 'speculative', 'fiction'], ['mystery', 'childrens', 'literature', 'young', 'adult', 'literature', 'fiction', 'spy', 'fiction'], ['speculative', 'fiction', 'horror', 'fiction'], ['speculative', 'fiction', 'horror', 'fiction'], ['thriller', 'speculative', 'fiction', 'fiction'], ['childrens', 'literature', 'fantasy', 'speculative', 'fiction', 'fiction'], [], ['fantasy', 'speculative', 'fiction', 'young', 'adult', 'literature'], ['speculative', 'fiction', 'fantasy'], ['childrens', 'literature', 'fantasy', 'speculative', 'fiction', 'fiction'], ['autobiography'], ['childrens', 'literature', 'fiction'], ['speculative', 'fiction', 'fantasy', 'romance'], ['science', 'fiction'], ['mystery', 'detective', 'fiction'], ['science', 'fiction', 'speculative', 'fiction'], ['science', 'fiction'], ['science', 'fiction', 'speculative', 'fiction', 'fantasy', 'fiction'], ['cyberpunk', 'science', 'fiction', 'speculative', 'fiction', 'fiction'], ['science', 'fiction', 'speculative', 'fiction'], ['fantasy', 'speculative', 'fiction', 'young', 'adult', 'literature'], ['fiction'], ['fiction', 'historical'], ['childrens', 'literature', 'young', 'adult', 'literature', 'fiction'], ['historical', 'fiction', 'fiction', 'historical'], ['science', 'fiction', 'speculative', 'fiction', 'fantasy', 'fiction'], ['science', 'fiction', 'speculative', 'fiction'], ['mystery', 'fiction'], ['comedy', 'romance', 'fiction'], ['science', 'fiction', 'speculative', 'fiction', 'fiction'], ['thriller', 'fiction'], ['science', 'fiction', 'speculative', 'fiction'], ['science', 'fiction', 'speculative', 'fiction'], ['childrens', 'literature', 'fiction'], ['reference', 'fiction'], ['mystery', 'speculative', 'fiction', 'horror', 'fiction'], ['western', 'childrens', 'literature', 'fiction'], ['young', 'adult', 'literature', 'childrens', 'literature', 'historical', 'fiction', 'fiction'], ['western', 'childrens', 'literature', 'fiction'], ['western', 'childrens', 'literature', 'fiction'], ['childrens', 'literature', 'fiction', 'historical'], ['science', 'fiction', 'speculative', 'fiction'], ['historical', 'fiction', 'fiction', 'historical'], ['fantasy'], ['fiction', 'historical'], ['fiction', 'suspense'], ['crime', 'fiction', 'mystery', 'speculative', 'fiction', 'fiction', 'suspense'], ['crime', 'fiction'], ['crime', 'fiction', 'speculative', 'fiction', 'mystery', 'suspense', 'fiction'], ['thriller'], ['war', 'young', 'adult', 'literature', 'historical'], ['speculative', 'fiction', 'historical'], ['speculative', 'fiction', 'horror'], ['comic', 'campus'], ['science', 'fiction', 'speculative', 'fiction', 'fantasy'], ['science', 'fiction', 'speculative', 'fiction', 'fantasy'], [], ['mystery', 'detective', 'fiction', 'fiction', 'suspense'], ['historical', 'fiction', 'fiction', 'historical'], ['mystery', 'detective', 'fiction', 'fiction', 'suspense'], ['mystery', 'detective', 'fiction', 'fiction', 'suspense'], ['crime', 'fiction', 'detective', 'fiction', 'historical'], ['fiction'], ['thriller'], ['childrens', 'literature'], ['crime', 'fiction', 'mystery', 'horror', 'fiction', 'suspense'], ['crime', 'fiction', 'mystery', 'satire', 'fiction', 'black', 'comedy', 'suspense'], ['science', 'fiction', 'fiction', 'romance'], ['historical'], ['crime', 'fiction', 'mystery', 'fiction'], ['speculative', 'fiction', 'horror', 'fiction'], ['crime', 'fiction', 'mystery', 'suspense'], ['fantasy', 'science', 'fiction', 'speculative', 'fiction', 'young', 'adult', 'literature', 'time', 'travel'], ['crime', 'fiction', 'mystery', 'speculative', 'fiction', 'fiction', 'suspense'], ['crime', 'fiction'], ['crime', 'fiction'], ['colonial', 'united', 'states', 'romance', 'fiction', 'romance', 'historical', 'romance'], ['science', 'fiction', 'speculative', 'fiction'], [], ['childrens', 'literature', 'fiction', 'poetry'], ['science', 'fiction', 'speculative', 'fiction', 'horror'], ['mystery', 'detective', 'fiction'], ['fiction'], ['mystery', 'detective', 'fiction', 'fiction', 'suspense'], ['crime', 'fiction'], ['mystery', 'detective', 'fiction'], ['mystery', 'detective', 'fiction'], ['mystery', 'detective', 'fiction'], [], ['thriller'], ['mystery', 'fiction', 'suspense'], ['mystery'], ['mystery', 'fiction', 'suspense'], ['crime', 'fiction', 'mystery', 'fiction', 'suspense'], ['crime', 'fiction', 'mystery', 'suspense'], ['fiction', 'historical'], ['historical', 'fiction', 'fiction', 'historical'], [], ['fiction', 'romance'], ['war'], ['fiction'], ['historical'], ['cyberpunk', 'science', 'fiction', 'speculative', 'fiction', 'fiction'], ['fiction'], ['speculative', 'fiction', 'young', 'adult', 'literature'], ['thriller', 'mystery', 'fiction', 'suspense'], ['cyberpunk', 'science', 'fiction', 'speculative', 'fiction', 'fiction'], ['speculative', 'fiction', 'romance'], ['crime', 'fiction', 'mystery', 'fiction'], ['postcyberpunk', 'speculative', 'fiction', 'science', 'fiction'], ['speculative', 'fiction', 'horror'], [], [], ['speculative', 'fiction', 'fantasy', 'historical'], ['fiction'], ['childrens', 'literature', 'young', 'adult', 'literature'], ['crime', 'fiction', 'historical'], ['comic'], ['thriller', 'mystery', 'speculative', 'fiction', 'fiction', 'suspense'], ['crime', 'fiction', 'historical'], ['alternate', 'history', 'science', 'fiction', 'fiction'], [], ['speculative', 'fiction'], [], ['childrens', 'literature'], ['science', 'fiction', 'speculative', 'fiction'], ['historical'], ['science', 'fiction', 'horror', 'speculative', 'fiction', 'mystery', 'fiction', 'suspense'], ['fantasy', 'science', 'fiction', 'speculative', 'fiction', 'horror', 'fiction'], ['history', 'fiction'], ['history', 'science', 'fiction', 'fantasy', 'fiction'], ['science', 'fiction', 'speculative', 'fiction'], ['western', 'historical', 'fiction', 'fiction', 'romance'], ['literary', 'realism', 'young', 'adult', 'literature', 'horror'], ['ghost', 'story', 'speculative', 'fiction', 'childrens', 'literature', 'fiction', 'low', 'fantasy'], ['literary', 'realism', 'sea', 'story', 'childrens', 'literature', 'fiction'], ['young', 'adult', 'literature'], ['childrens', 'literature', 'fantasy', 'speculative', 'fiction', 'fiction'], ['childrens', 'literature'], ['gothic', 'fiction', 'childrens', 'literature', 'horror', 'speculative', 'fiction', 'fiction'], ['childrens', 'literature', 'young', 'adult', 'literature', 'fiction'], ['historical'], ['childrens', 'literature'], ['science', 'fiction', 'speculative', 'fiction', 'fiction'], ['autobiographical'], ['science', 'fiction', 'speculative', 'fiction', 'detective', 'fiction'], ['speculative', 'fiction', 'fantasy', 'fiction'], ['crime', 'fiction'], ['science', 'fiction', 'speculative', 'fiction', 'fantasy', 'fiction'], ['historical', 'fiction', 'young', 'adult', 'literature'], ['thriller', 'technothriller', 'speculative', 'fiction', 'science', 'fiction', 'adventure'], ['thriller', 'science', 'fiction', 'adventure'], ['thriller', 'mystery', 'spy', 'fiction', 'fiction'], ['thriller', 'mystery', 'fiction', 'suspense'], ['thriller', 'science', 'fiction', 'speculative', 'fiction', 'mystery', 'fantasy', 'fiction', 'suspense'], ['thriller', 'science', 'fiction', 'speculative', 'fiction', 'mystery', 'fantasy', 'fiction', 'suspense'], ['thriller', 'science', 'fiction', 'speculative', 'fiction', 'mystery', 'fantasy', 'fiction', 'suspense'], ['alternate', 'history', 'speculative', 'fiction', 'young', 'adult', 'literature'], ['crime', 'fiction', 'mystery', 'fiction', 'suspense'], ['science', 'fiction', 'speculative', 'fiction', 'fiction'], ['crime', 'fiction', 'mystery', 'fiction', 'suspense'], ['science', 'fiction', 'speculative', 'fiction', 'childrens', 'literature'], ['science', 'fiction', 'speculative', 'fiction'], [], ['alternate', 'history', 'science', 'fiction', 'speculative', 'fiction', 'fantasy', 'fiction'], ['postmodernism'], ['speculative', 'fiction'], ['science', 'fiction', 'speculative', 'fiction'], ['speculative', 'fiction', 'childrens', 'literature', 'sociology', 'fiction'], ['thriller', 'speculative', 'fiction', 'horror'], ['autobiographical'], ['young', 'adult', 'literature'], ['thriller'], ['mystery', 'epistolary', 'fiction', 'suspense'], ['thriller', 'speculative', 'fiction', 'fiction'], ['fantasy'], ['childrens', 'literature', 'fiction'], ['thriller'], ['young', 'adult', 'literature'], ['thriller'], ['alternate', 'history', 'speculative', 'fiction', 'horror'], ['alternate', 'history', 'speculative', 'fiction', 'horror'], ['thriller'], ['mystery', 'fiction', 'suspense'], ['thriller', 'fiction'], ['science', 'fiction', 'speculative', 'fiction'], ['crime', 'fiction', 'mystery', 'speculative', 'fiction', 'fiction'], ['speculative', 'fiction', 'adventure'], ['childrens', 'literature', 'fiction'], ['crime', 'fiction', 'mystery', 'fiction'], ['childrens', 'literature', 'fiction'], ['sociology', 'fiction'], ['crime', 'fiction', 'mystery', 'suspense'], ['war'], ['childrens', 'literature'], ['science', 'fiction', 'speculative', 'fiction'], ['science', 'fiction', 'speculative', 'fiction', 'horror'], [], ['childrens', 'literature', 'young', 'adult', 'literature', 'speculative', 'fiction', 'fiction'], ['fiction', 'romance'], ['crime', 'fiction', 'mystery', 'speculative', 'fiction', 'suspense'], ['fiction'], ['speculative', 'fiction', 'fantasy', 'fiction', 'romance'], ['young', 'adult', 'literature'], ['thriller', 'speculative', 'fiction', 'fantasy', 'fiction'], ['childrens', 'literature'], ['science', 'fiction', 'speculative', 'fiction', 'fantasy'], ['crime', 'fiction', 'black', 'comedy', 'satire', 'fiction'], ['comedy'], ['science', 'fiction', 'speculative', 'fiction', 'adventure', 'psychology', 'historical', 'fiction', 'fantasy', 'fiction', 'drama'], ['crime', 'fiction', 'mystery', 'fiction', 'suspense'], ['crime', 'fiction', 'historical'], ['thriller', 'childrens', 'literature', 'horror', 'speculative', 'fiction', 'young', 'adult', 'literature', 'fiction'], ['science', 'fiction', 'speculative', 'fiction', 'fantasy', 'fiction'], ['speculative', 'fiction', 'fantasy', 'fiction', 'war'], [], ['childrens', 'literature', 'fantasy'], ['fiction'], ['thriller'], ['fiction', 'romance', 'historical'], ['childrens', 'literature', 'fiction'], ['black', 'comedy', 'satire', 'dystopia', 'utopian', 'dystopian', 'fiction'], [], ['fantasy', 'speculative', 'fiction', 'young', 'adult', 'literature'], ['fiction'], [], ['play'], ['speculative', 'fiction', 'historical'], ['fiction'], ['speculative', 'fiction', 'fantasy'], ['science', 'fiction', 'speculative', 'fiction', 'fantasy', 'fiction'], ['fiction'], ['speculative', 'fiction', 'fiction', 'romance'], ['fiction'], ['speculative', 'fiction', 'historical', 'fiction', 'fiction'], ['science', 'fiction', 'speculative', 'fiction'], [], ['speculative', 'fiction'], ['thriller'], ['science', 'fiction', 'childrens', 'literature', 'fantasy', 'speculative', 'fiction', 'fiction'], ['science', 'fiction', 'childrens', 'literature', 'fantasy', 'speculative', 'fiction', 'fiction'], ['fantasy', 'short', 'story'], ['speculative', 'fiction', 'childrens', 'literature'], ['childrens', 'literature', 'fiction', 'romance'], ['science', 'fiction'], ['childrens', 'literature'], ['picture', 'book', 'childrens', 'literature'], ['childrens', 'literature'], ['science', 'fiction', 'fiction'], ['childrens', 'literature', 'fantasy', 'speculative', 'fiction', 'fiction'], ['mystery', 'fiction', 'suspense'], ['mystery', 'detective', 'fiction', 'fiction', 'suspense'], ['mystery', 'detective', 'fiction', 'fiction', 'suspense'], ['detective', 'fiction', 'historical', 'fiction', 'historical', 'whodunnit', 'mystery', 'fiction', 'historical', 'suspense'], [], ['thriller', 'spy', 'fiction'], ['science', 'fiction', 'childrens', 'literature', 'speculative', 'fiction', 'young', 'adult', 'literature', 'fantasy', 'fiction'], ['mystery', 'detective', 'fiction', 'fiction', 'suspense'], ['fiction'], ['mystery', 'detective', 'fiction'], ['mystery', 'detective', 'fiction', 'fiction', 'suspense'], ['mystery', 'detective', 'fiction'], ['mystery'], ['thriller', 'mystery', 'spy', 'fiction', 'fiction', 'suspense'], ['thriller', 'spy', 'fiction', 'fiction'], ['childrens', 'literature', 'fiction'], ['fantasy', 'childrens', 'literature', 'young', 'adult', 'literature'], ['detective', 'fiction', 'speculative', 'fiction', 'historical', 'fiction', 'mystery', 'suspense', 'fiction'], ['thriller', 'childrens', 'literature', 'young', 'adult', 'literature', 'fiction', 'suspense'], ['fiction'], ['fiction', 'romance'], ['science', 'fiction', 'speculative', 'fiction', 'fantasy', 'fiction'], ['romance'], ['mystery', 'detective', 'fiction'], ['mystery', 'detective', 'fiction'], ['historical', 'fiction', 'fiction', 'suspense'], ['science', 'fiction', 'speculative', 'fiction', 'fiction'], ['fiction', 'romance'], ['fiction'], ['science', 'fiction', 'speculative', 'fiction', 'childrens', 'literature', 'fiction'], ['mystery', 'detective', 'fiction'], ['mystery', 'detective', 'fiction'], ['detective', 'fiction', 'speculative', 'fiction', 'historical', 'fiction', 'mystery', 'suspense', 'fiction'], ['mystery', 'detective', 'fiction', 'historical', 'fiction', 'fiction', 'suspense'], ['crime', 'fiction', 'mystery', 'fiction', 'suspense'], ['science', 'fiction'], ['thriller'], ['thriller', 'mystery', 'fiction', 'suspense'], ['thriller', 'fiction'], ['thriller', 'mystery', 'fiction', 'suspense'], ['childrens', 'literature', 'fiction'], ['speculative', 'fiction', 'fantasy', 'fiction'], ['science', 'fiction', 'speculative', 'fiction', 'fiction'], ['young', 'adult', 'literature', 'fiction'], ['science', 'fiction', 'speculative', 'fiction', 'fantasy', 'fiction', 'novella'], ['fiction', 'romance'], ['crime', 'fiction', 'fiction', 'historical'], ['science', 'fiction', 'speculative', 'fiction', 'fantasy', 'fiction'], [], ['historical'], ['historical', 'fiction', 'fiction'], ['mystery', 'speculative', 'fiction', 'fantasy'], ['mystery', 'speculative', 'fiction', 'fantasy'], ['mystery', 'speculative', 'fiction', 'fantasy', 'fiction'], ['young', 'adult', 'literature'], ['childrens', 'literature', 'fantasy'], ['fiction', 'romance'], [], ['young', 'adult', 'literature'], ['thriller', 'autobiography', 'biography', 'true', 'crime'], ['thriller', 'fiction'], ['thriller', 'fiction'], ['speculative', 'fiction'], ['mystery', 'fiction'], ['mystery', 'fiction'], ['science', 'fiction', 'speculative', 'fiction'], ['science', 'fiction', 'speculative', 'fiction', 'fantasy', 'fiction', 'historical'], ['crime', 'fiction', 'biography', 'true', 'crime', 'fiction', 'autobiography'], ['science', 'fiction', 'speculative', 'fiction', 'fantasy', 'childrens', 'literature'], ['thriller', 'war', 'childrens', 'literature', 'fiction'], ['fiction'], ['indian', 'chick', 'lit', 'comedy', 'romance'], [], ['literary', 'fiction'], ['fiction'], ['western', 'fiction'], [], ['memoir'], ['thriller', 'mystery', 'fiction', 'romance', 'suspense'], [], ['thriller', 'suspense'], ['science', 'fiction'], ['autobiography'], ['childrens', 'literature', 'young', 'adult', 'literature', 'fiction'], ['history'], ['speculative', 'fiction'], ['young', 'adult', 'literature'], ['childrens', 'literature', 'historical'], ['speculative', 'fiction', 'young', 'adult', 'literature'], ['travel', 'fiction', 'romance'], ['science', 'fiction', 'speculative', 'fiction', 'fiction', 'suspense'], ['speculative', 'fiction', 'fantasy'], ['historical', 'fiction', 'fiction', 'romance', 'historical'], ['historical', 'fiction', 'fiction', 'historical'], ['historical', 'fiction'], ['autobiography', 'biography', 'sociology'], ['speculative', 'fiction', 'childrens', 'literature', 'fiction'], ['thriller'], ['autobiographical'], ['nonfiction'], [], ['science', 'fiction'], ['horror', 'fantasy', 'young', 'adult', 'literature', 'romance'], ['science', 'fiction', 'speculative', 'fiction'], ['science', 'fiction'], ['speculative', 'fiction'], ['science', 'fiction'], [], ['thriller', 'historical', 'fiction', 'fiction', 'suspense'], ['science', 'fiction'], ['science', 'fiction', 'speculative', 'fiction'], ['high', 'fantasy', 'speculative', 'fiction', 'fantasy', 'fiction'], ['speculative', 'fiction', 'fantasy', 'fiction'], ['historical'], ['thriller', 'spy', 'fiction', 'childrens', 'literature'], ['picture', 'book', 'childrens', 'literature', 'fiction'], ['science', 'fiction', 'urban', 'fantasy', 'magic', 'realism', 'speculative', 'fiction', 'fiction', 'horror'], ['speculative', 'fiction', 'fantasy', 'fiction'], ['science', 'fiction', 'speculative', 'fiction', 'horror'], ['speculative', 'fiction'], ['fantasy'], ['mystery', 'speculative', 'fiction', 'fiction', 'suspense'], ['mystery', 'speculative', 'fiction', 'fiction', 'suspense'], ['mystery', 'speculative', 'fiction', 'fiction', 'suspense'], ['mystery', 'speculative', 'fiction', 'fiction', 'suspense'], ['mystery', 'speculative', 'fiction', 'fiction', 'suspense'], ['science', 'fiction', 'speculative', 'fiction', 'fiction'], ['science', 'fiction', 'speculative', 'fiction', 'horror', 'fiction'], ['horror', 'fantasy', 'young', 'adult', 'literature', 'paranormal', 'romance'], ['fiction'], ['speculative', 'fiction', 'fiction'], ['science', 'fiction', 'speculative', 'fiction'], ['fantasy'], ['young', 'adult', 'literature'], ['young', 'adult', 'literature'], ['fiction', 'romance'], ['mystery', 'fiction', 'suspense'], ['sword', 'sorcery', 'speculative', 'fiction', 'fantasy'], ['young', 'adult', 'literature'], ['childrens', 'literature'], ['fiction'], ['childrens', 'literature'], ['thriller', 'fiction'], ['autobiography', 'biography', 'fiction'], ['childrens', 'literature', 'fiction'], ['travel', 'biography', 'sociology', 'autobiography'], ['speculative', 'fiction'], ['speculative', 'fiction'], ['fiction'], [], ['speculative', 'fiction', 'fantasy'], ['western', 'fiction'], ['fiction'], ['crime', 'fiction', 'mystery', 'fiction', 'suspense'], ['science', 'fiction', 'speculative', 'fiction', 'fiction'], ['autobiography', 'biography'], ['crime', 'fiction', 'fiction'], ['crime', 'fiction', 'fiction'], ['thriller', 'mystery'], ['science', 'fiction', 'speculative', 'fiction'], ['crime', 'fiction', 'historical'], ['speculative', 'fiction', 'fantasy'], ['childrens', 'literature', 'fantasy', 'speculative', 'fiction', 'fiction'], ['childrens', 'literature', 'fantasy'], ['young', 'adult', 'literature'], ['crime', 'fiction', 'mystery', 'fiction', 'suspense'], ['childrens', 'literature'], ['crime', 'fiction'], ['speculative', 'fiction', 'childrens', 'literature'], ['fiction'], ['mystery', 'childrens', 'literature', 'fiction', 'suspense'], ['science', 'fiction'], ['childrens', 'literature', 'fiction'], ['speculative', 'fiction', 'childrens', 'literature', 'fiction'], ['crime', 'fiction', 'mystery', 'fiction', 'suspense'], ['alternate', 'history', 'historical', 'fiction', 'steampunk'], ['thriller'], ['fantasy'], ['speculative', 'fiction', 'horror', 'fiction'], ['science', 'fiction'], ['science', 'fiction', 'speculative', 'fiction'], ['mystery', 'fiction', 'suspense'], ['crime', 'fiction', 'fiction'], ['mystery', 'fiction', 'suspense'], ['gay'], ['sword', 'sorcery', 'speculative', 'fiction', 'fantasy', 'fiction'], ['speculative', 'fiction', 'fiction'], ['childrens', 'literature', 'young', 'adult', 'literature', 'fiction'], ['mystery', 'fiction'], ['fiction'], ['speculative', 'fiction'], ['thriller', 'fiction', 'suspense'], ['thriller', 'mystery', 'fiction'], ['science', 'fiction', 'speculative', 'fiction'], ['science', 'fiction', 'speculative', 'fiction', 'childrens', 'literature', 'fiction'], ['thriller', 'mystery', 'fiction', 'suspense'], ['fiction'], ['fiction'], ['fiction'], ['science', 'fiction', 'fantasy', 'fiction'], ['fiction', 'romance'], ['western', 'fiction', 'western', 'fiction', 'romance'], ['fantasy'], ['detective', 'fiction', 'speculative', 'fiction'], ['science', 'fiction', 'speculative', 'fiction', 'fiction'], ['speculative', 'fiction', 'fantasy', 'fiction'], ['fiction'], ['chick', 'lit', 'comic', 'fiction'], ['alternate', 'history', 'science', 'fiction', 'speculative', 'fiction'], ['science', 'fiction', 'speculative', 'fiction', 'young', 'adult', 'literature'], ['speculative', 'fiction', 'horror', 'fiction'], ['young', 'adult', 'literature'], ['speculative', 'fiction'], ['young', 'adult', 'literature'], ['childrens', 'literature'], ['detective', 'fiction'], [], ['historical'], ['fiction'], ['childrens', 'literature', 'fiction'], ['childrens', 'literature', 'fiction'], ['fiction'], ['mystery', 'fiction', 'suspense', 'historical'], ['childrens', 'literature', 'young', 'adult', 'literature'], ['science', 'fiction', 'speculative', 'fiction', 'fantasy', 'fiction'], ['spy', 'fiction'], ['childrens', 'literature', 'young', 'adult', 'literature', 'fiction'], ['comedy', 'adventure'], ['childrens', 'literature', 'fiction', 'adventure', 'adventure'], ['speculative', 'fiction', 'fantasy'], ['speculative', 'fiction', 'fantasy', 'fiction'], ['speculative', 'fiction', 'fantasy'], ['science', 'fiction', 'speculative', 'fiction', 'fiction'], ['horror'], ['speculative', 'fiction', 'fantasy'], ['speculative', 'fiction'], [], ['nonfiction'], ['science', 'fiction', 'speculative', 'fiction', 'fantasy', 'fiction'], ['science', 'fiction', 'speculative', 'fiction', 'urban', 'fantasy', 'contemporary', 'fantasy'], ['horror'], ['speculative', 'fiction', 'fantasy'], ['mystery', 'suspense'], ['fantasy', 'childrens', 'literature', 'young', 'adult', 'literature', 'speculative', 'fiction', 'fiction'], ['literary', 'realism', 'sea', 'story', 'childrens', 'literature', 'fiction'], ['childrens', 'literature', 'young', 'adult', 'literature', 'fiction', 'humour'], ['detective', 'fiction', 'speculative', 'fiction'], ['thriller', 'fiction'], ['fantasy'], ['alternate', 'history', 'speculative', 'fiction', 'dystopia'], ['fiction'], ['science', 'fiction'], ['fiction'], [], ['childrens', 'literature'], ['speculative', 'fiction', 'childrens', 'literature', 'fiction'], [], ['childrens', 'literature'], ['childrens', 'literature'], ['space', 'opera', 'detective', 'fiction', 'science', 'fiction'], ['science', 'fiction'], ['crime', 'fiction', 'mystery', 'fiction'], ['speculative', 'fiction', 'fantasy'], ['crime', 'fiction', 'mystery', 'speculative', 'fiction', 'fiction', 'suspense'], ['romance'], ['fantasy'], ['mystery'], ['historical', 'fiction', 'childrens', 'literature', 'fiction'], ['science', 'fiction'], ['speculative', 'fiction', 'fiction', 'suspense', 'romance', 'comedy'], ['fiction', 'historical'], [], ['science', 'fiction', 'fiction'], ['thriller', 'mystery', 'crime', 'fiction'], ['true', 'crime'], ['science', 'fiction'], ['childrens', 'literature'], ['science', 'fiction', 'horror', 'speculative', 'fiction', 'mystery', 'epistolary', 'fantasy', 'fiction', 'gothic', 'fiction', 'suspense'], ['science', 'fiction'], [], ['science', 'fiction'], ['science', 'fiction'], ['science', 'fiction'], [], ['science', 'fiction', 'speculative', 'fiction'], ['crime', 'fiction'], ['crime', 'fiction', 'young', 'adult', 'literature'], ['western', 'fiction'], ['alternate', 'history'], ['thriller'], ['fiction'], [], ['gothic', 'fiction', 'young', 'adult', 'literature'], ['nature', 'science', 'fiction', 'speculative', 'fiction', 'fiction'], ['romance'], ['historical', 'fiction'], ['crime', 'fiction', 'mystery', 'fiction', 'suspense'], ['crime', 'fiction'], ['alternate', 'history'], ['childrens', 'literature', 'fiction'], ['childrens', 'literature'], ['childrens', 'literature'], ['childrens', 'literature'], ['fiction'], ['crime', 'fiction', 'mystery', 'childrens', 'literature', 'fiction', 'suspense'], ['cyberpunk', 'mystery', 'science', 'fiction', 'speculative', 'fiction', 'fiction'], ['science', 'fiction', 'speculative', 'fiction', 'romance', 'mystery', 'fiction', 'dystopia'], ['childrens', 'literature', 'fantasy', 'speculative', 'fiction', 'fiction'], [], ['crime', 'fiction'], ['crime', 'fiction'], ['crime', 'fiction'], ['crime', 'fiction'], ['science', 'fiction'], ['crime', 'fiction'], ['crime', 'fiction'], ['crime', 'fiction'], ['historical'], [], ['science', 'fiction'], ['childrens', 'literature', 'fiction'], ['crime', 'fiction'], ['historical'], ['detective', 'fiction'], ['crime', 'fiction'], ['crime', 'fiction', 'mystery'], ['science', 'fiction'], ['science', 'fiction'], ['science', 'fiction'], ['science', 'fiction'], [], ['science', 'fiction'], ['historical', 'fiction'], ['science', 'fiction'], ['poetry'], ['mystery'], ['science', 'fiction', 'fantasy'], ['thriller', 'speculative', 'fiction'], ['science', 'fiction', 'fantasy'], ['mystery'], ['young', 'adult', 'literature'], ['crime', 'fiction', 'mystery', 'fiction', 'suspense'], ['fiction'], ['crime', 'fiction', 'mystery', 'fiction', 'suspense'], [], ['spy', 'fiction'], [], [], ['tragicomedy', 'fiction', 'romance'], ['mystery', 'fiction'], ['mystery', 'fiction'], ['fantasy'], ['childrens', 'literature'], ['young', 'adult', 'literature'], ['detective', 'fiction'], ['mystery', 'science', 'fiction'], ['crime', 'fiction'], ['memoir'], ['coming', 'age', 'fiction'], ['crime', 'fiction'], ['mystery', 'fiction'], ['speculative', 'fiction'], ['nonfiction'], ['science', 'fiction', 'fantasy'], [], ['mystery', 'fiction', 'suspense'], [], ['speculative', 'fiction', 'fiction', 'romance'], ['romance'], ['childrens', 'literature'], ['young', 'adult', 'literature'], ['mystery'], ['tragicomedy'], [], ['fantasy'], ['fantasy'], [], [], [], [], [], ['mystery', 'adventure'], ['mystery', 'adventure'], ['young', 'adult', 'literature'], [], ['science', 'fiction'], ['mystery', 'detective', 'fiction'], [], ['detective', 'fiction'], ['detective', 'fiction'], ['mystery', 'detective', 'fiction'], ['childrens', 'literature', 'historical'], [], ['childrens', 'literature', 'fiction', 'historical'], ['mystery', 'young', 'adult', 'literature'], ['science', 'fiction', 'speculative', 'fiction'], ['childrens', 'literature'], ['thriller', 'spy', 'fiction'], [], ['thriller', 'mystery'], ['fiction', 'romance', 'historical'], ['young', 'adult', 'literature'], ['young', 'adult', 'literature'], ['science', 'fiction'], ['childrens', 'literature'], ['spy', 'fiction', 'fiction'], ['speculative', 'fiction', 'horror', 'fiction', 'humour'], ['childrens', 'literature'], ['mystery'], ['spy', 'fiction'], ['autobiography', 'biography', 'nonfiction'], ['speculative', 'fiction', 'fantasy', 'childrens', 'literature', 'high', 'fantasy'], ['childrens', 'literature'], [], ['fantasy'], ['fiction'], ['fantasy'], ['history'], ['nature', 'childrens', 'literature', 'fiction'], ['childrens', 'literature'], ['science', 'fiction', 'speculative', 'fiction'], ['crime', 'fiction'], ['fiction'], ['short', 'story'], ['childrens', 'literature'], ['childrens', 'literature'], ['childrens', 'literature'], ['childrens', 'literature'], ['fantasy'], ['childrens', 'literature', 'fantasy'], ['thriller', 'fiction'], [], ['crime', 'fiction', 'historical'], ['science', 'fiction'], ['fiction'], ['young', 'adult', 'literature'], ['science', 'fiction'], ['childrens', 'literature'], [], ['science', 'fiction', 'childrens', 'literature', 'speculative', 'fiction', 'technothriller', 'fantasy', 'fiction', 'suspense'], ['thriller'], ['mystery'], ['speculative', 'fiction', 'fantasy', 'romance'], ['science', 'fiction'], ['parallel'], ['speculative', 'fiction', 'romance', 'mystery', 'fantasy', 'fiction', 'gothic', 'fiction'], ['childrens', 'literature'], ['subterranean', 'fiction', 'science', 'fiction', 'lost', 'world'], ['science', 'fiction'], ['fantasy'], ['science', 'fiction'], ['childrens', 'literature', 'young', 'adult', 'literature', 'fiction'], ['speculative', 'fiction', 'fantasy'], ['fiction'], ['fiction'], ['speculative', 'fiction', 'fiction'], ['horror', 'speculative', 'fiction', 'romance', 'mystery', 'fantasy', 'gothic', 'fiction'], ['fantasy', 'childrens', 'literature', 'young', 'adult', 'literature', 'speculative', 'fiction', 'fiction'], ['psychological'], ['nonfiction'], ['detective', 'fiction'], ['speculative', 'fiction', 'fantasy'], ['thriller', 'suspense'], ['romance'], ['chick', 'lit', 'comic', 'romance'], [], ['speculative', 'fiction'], ['science', 'fiction', 'speculative', 'fiction', 'fantasy', 'fiction'], ['science', 'fiction', 'young', 'adult', 'literature', 'adventure', 'utopian', 'dystopian', 'fiction'], ['speculative', 'fiction', 'nonfiction', 'sociology', 'fiction'], ['young', 'adult', 'literature'], ['historical', 'fiction', 'fiction'], [], ['science', 'fiction'], ['young', 'adult', 'literature'], ['thriller'], ['speculative', 'fiction', 'horror'], ['young', 'adult', 'literature'], ['science', 'fiction', 'speculative', 'fiction'], ['historical', 'fiction', 'young', 'adult', 'literature'], ['childrens', 'literature', 'adventure'], ['childrens', 'literature', 'fantasy'], ['detective', 'fiction'], ['speculative', 'fiction', 'fantasy'], ['speculative', 'fiction', 'fantasy'], ['fiction', 'fairy', 'tale'], ['crime', 'fiction'], ['crime', 'fiction'], ['crime', 'fiction'], ['crime', 'fiction'], ['crime', 'fiction'], ['gothic', 'fiction', 'mystery', 'fantasy', 'romance'], ['speculative', 'fiction', 'fiction'], ['mystery'], [], ['drama'], ['thriller', 'mystery', 'fiction', 'suspense'], ['childrens', 'literature', 'fantasy'], ['autobiography'], ['speculative', 'fiction', 'fantasy', 'romance'], ['fantasy', 'speculative', 'fiction', 'young', 'adult', 'literature'], ['fantasy'], ['speculative', 'fiction', 'fantasy', 'fiction'], ['western'], [], ['biography'], ['mystery', 'fantasy'], ['crime', 'fiction'], [], ['hard', 'science', 'fiction', 'science', 'fiction'], ['crime', 'fiction'], ['science', 'fiction'], ['speculative', 'fiction', 'fantasy', 'childrens', 'literature'], ['detective', 'fiction', 'novella'], ['fantasy'], ['crime', 'fiction'], ['crime', 'fiction'], ['childrens', 'literature'], ['young', 'adult', 'literature'], [], ['childrens', 'literature'], ['science', 'fiction', 'speculative', 'fiction'], ['science', 'fiction'], ['young', 'adult', 'literature', 'fiction'], ['detective', 'fiction'], ['childrens', 'literature', 'young', 'adult', 'literature'], ['thriller'], ['thriller'], ['thriller'], ['thriller'], ['thriller'], ['thriller'], ['science', 'fiction'], ['historical'], ['young', 'adult', 'literature'], ['mystery', 'fiction', 'suspense'], ['thriller', 'mystery'], ['science', 'fiction', 'speculative', 'fiction', 'fiction', 'utopian', 'dystopian', 'fiction', 'social', 'science', 'fiction'], ['science', 'fiction'], ['science', 'fiction'], ['science', 'fiction'], ['speculative', 'fiction', 'young', 'adult', 'literature'], ['thriller', 'speculative', 'fiction', 'fiction'], [], ['technothriller'], ['childrens', 'literature'], [], ['spy', 'fiction', 'historical'], ['detective', 'fiction', 'speculative', 'fiction'], ['crime', 'fiction'], [], ['fantasy'], ['science', 'fiction', 'speculative', 'fiction', 'mystery', 'satire', 'fiction', 'suspense'], [], ['high', 'fantasy'], ['crime', 'fiction'], ['young', 'adult', 'literature'], ['nonfiction'], [], [], [], [], ['fantasy', 'mystery', 'speculative', 'fiction', 'horror', 'fiction'], ['detective', 'fiction', 'speculative', 'fiction'], ['fiction'], ['comic', 'childrens', 'literature'], [], [], [], [], [], [], [], ['science', 'fiction'], ['science', 'fiction', 'speculative', 'fiction', 'fiction'], [], [], ['science', 'fiction'], ['science', 'fiction', 'bangsian', 'fantasy', 'speculative', 'fiction', 'romance', 'fantasy', 'fiction'], ['historical'], [], [], [], [], ['alternate', 'history', 'childrens', 'literature'], ['mystery'], [], ['historical'], ['fiction'], ['crime', 'fiction'], ['childrens', 'literature'], ['childrens', 'literature', 'adventure'], ['fantasy'], ['historical'], ['fantasy'], ['science', 'fiction'], ['fantasy'], ['urban', 'fantasy', 'paranormal', 'romance'], ['urban', 'fantasy', 'paranormal', 'romance'], ['mystery'], ['historical', 'fiction', 'young', 'adult', 'literature'], ['childrens', 'literature', 'fiction'], ['childrens', 'literature', 'fantasy', 'adventure'], ['science', 'fiction', 'speculative', 'fiction'], ['technothriller'], ['fiction'], ['childrens', 'literature', 'fantasy'], ['spy', 'fiction'], ['childrens', 'literature'], ['historical', 'fiction'], ['young', 'adult', 'literature'], [], ['mystery', 'fiction'], ['young', 'adult', 'literature'], ['childrens', 'literature'], ['childrens', 'literature'], ['childrens', 'literature', 'fiction'], ['speculative', 'fiction', 'childrens', 'literature'], ['young', 'adult', 'literature'], ['thriller', 'science', 'fiction'], ['crime', 'fiction', 'fiction'], ['crime', 'fiction'], ['fiction'], ['fiction', 'historical'], ['crime', 'fiction', 'speculative', 'fiction'], ['fiction'], ['literary', 'realism', 'young', 'adult', 'literature', 'horror'], ['fantasy'], ['fantasy'], ['fantasy'], ['fantasy', 'young', 'adult', 'literature'], ['science', 'fiction'], [], ['childrens', 'literature'], ['historical'], ['detective', 'fiction'], ['military', 'science', 'fiction'], ['speculative', 'fiction', 'childrens', 'literature', 'fiction'], ['childrens', 'literature'], [], ['science', 'fiction'], ['subterranean', 'fiction', 'science', 'fiction', 'lost', 'world', 'fantasy'], ['fantasy'], ['fantasy'], ['science', 'fiction'], ['autobiography', 'biography'], ['crime', 'fiction'], [], ['young', 'adult', 'literature'], ['crime', 'fiction', 'detective', 'fiction'], ['crime', 'fiction', 'mystery', 'fiction'], ['thriller', 'suspense'], ['mystery'], ['crime', 'fiction'], ['crime', 'fiction', 'fiction'], ['gothic', 'fiction', 'fantasy', 'young', 'adult', 'literature'], ['crime', 'fiction', 'mystery'], ['thriller', 'mystery'], ['crime', 'fiction', 'mystery'], ['detective', 'fiction'], ['childrens', 'literature', 'adventure'], ['young', 'adult', 'literature'], ['literary', 'fiction'], ['young', 'adult', 'literature'], ['speculative', 'fiction'], [], ['science', 'fiction', 'apocalyptic', 'postapocalyptic', 'fiction', 'fantasy'], ['science', 'fiction', 'adventure'], ['science', 'fiction', 'adventure'], ['erotica'], ['science', 'fiction'], ['nonfiction'], ['childrens', 'literature', 'fantasy'], ['fantasy'], ['speculative', 'fiction', 'horror', 'fiction'], [], ['thriller'], ['fantasy', 'autobiography', 'biography', 'reference', 'fiction'], ['speculative', 'fiction'], ['fiction'], ['fiction'], [], ['speculative', 'fiction', 'fantasy'], [], ['bildungsroman'], [], ['crime', 'fiction'], ['historical'], ['mystery'], ['vampire', 'fiction', 'science', 'fiction', 'horror', 'new', 'york', 'times', 'best', 'seller', 'list', 'utopian', 'dystopian', 'fiction', 'apocalyptic', 'postapocalyptic', 'fiction', 'fantasy', 'fiction', 'epic', 'science', 'fiction', 'fantasy', 'dystopia'], ['alternate', 'history', 'speculative', 'fiction', 'fantasy'], ['mystery', 'science', 'fiction', 'childrens', 'literature', 'young', 'adult', 'literature'], ['mystery'], ['western', 'fiction', 'young', 'adult', 'literature'], ['crime', 'fiction'], ['true', 'crime'], ['speculative', 'fiction'], ['mystery'], ['crime', 'fiction'], ['biography'], ['science', 'fiction'], ['speculative', 'fiction', 'young', 'adult', 'literature', 'adventure'], ['science', 'fiction'], ['mystery', 'romance'], ['thriller', 'mystery', 'romance', 'historical'], ['literary', 'fiction'], ['history'], [], ['science', 'fiction'], ['alien', 'invasion'], [], ['historical', 'fantasy', 'steampunk', 'paranormal', 'romance'], ['steampunk', 'paranormal', 'romance'], ['childrens', 'literature', 'fantasy'], ['fantasy'], ['fiction'], ['childrens', 'literature'], ['crime', 'fiction'], ['science', 'fiction'], ['childrens', 'literature'], ['historical'], ['military', 'science', 'fiction'], ['young', 'adult', 'literature'], ['thriller', 'young', 'adult', 'literature'], ['ghost', 'story', 'speculative', 'fiction', 'childrens', 'literature', 'fiction', 'low', 'fantasy'], ['thriller', 'science', 'fiction', 'speculative', 'fiction', 'suspense', 'fiction'], ['childrens', 'literature', 'fiction'], ['urban', 'fantasy', 'young', 'adult', 'literature', 'dark', 'fantasy', 'romance'], ['autobiography', 'graphic'], ['science', 'fiction', 'speculative', 'fiction'], ['fiction'], ['fiction'], ['thriller'], ['science', 'fiction'], ['crime', 'fiction'], ['childrens', 'literature'], ['science', 'fiction'], ['childrens', 'literature'], ['comedy'], ['speculative', 'fiction'], ['science', 'fiction'], ['historical', 'fiction'], [], ['historical'], ['fiction'], ['science', 'fiction'], ['fiction'], ['science', 'fiction'], ['science', 'fiction', 'speculative', 'fiction', 'fantasy', 'fiction'], [], ['speculative', 'fiction', 'childrens', 'literature', 'fiction'], ['science', 'fiction', 'comic', 'speculative', 'fiction'], ['short', 'story'], ['novella', 'absurdist', 'fiction'], ['science', 'fiction', 'speculative', 'fiction', 'fantasy', 'fiction'], ['thriller', 'fiction'], ['crime', 'fiction'], [], ['fantasy'], ['fantasy'], [], ['bildungsroman'], ['science', 'fiction', 'speculative', 'fiction', 'fiction'], [], ['autobiography'], ['autobiography'], ['erotica'], ['mystery'], ['comics'], ['childrens', 'literature'], ['magic', 'realism'], ['biography'], ['mystery'], [], ['historical'], ['fiction'], ['thriller'], ['childrens', 'literature', 'fantasy', 'adventure'], ['childrens', 'literature'], ['urban', 'fantasy'], ['gothic', 'fiction', 'mystery', 'fantasy', 'romance'], ['thriller'], ['fantasy', 'young', 'adult', 'literature'], ['young', 'adult', 'literature', 'bildungsroman'], ['gothic', 'fiction', 'fantasy', 'young', 'adult', 'literature'], ['literary', 'fiction'], ['science', 'fiction'], ['fiction'], [], ['historical', 'fiction'], ['speculative', 'fiction', 'fantasy'], ['gothic', 'fiction'], [], ['science', 'fiction', 'childrens', 'literature', 'fiction', 'scientific', 'romance'], ['crime', 'fiction', 'literary', 'fiction'], ['childrens', 'literature'], ['historical'], ['science', 'fiction'], ['speculative', 'fiction'], ['young', 'adult', 'literature'], ['war', 'psychological'], ['steampunk'], ['fantasy', 'horror', 'speculative', 'fiction', 'young', 'adult', 'literature', 'paranormal', 'romance'], ['fantasy', 'childrens', 'literature', 'young', 'adult', 'literature'], ['mystery', 'detective', 'fiction'], [], ['historical', 'fiction'], ['historical', 'fiction'], ['fantasy', 'fairytale', 'fantasy'], ['thriller'], ['thriller'], ['science', 'fiction', 'childrens', 'literature'], ['science', 'fiction'], ['bildungsroman'], ['prose'], ['prose'], ['true', 'crime'], ['science', 'fiction'], ['poetry'], ['historical'], ['crime', 'fiction', 'black', 'comedy'], ['crime', 'fiction', 'black', 'comedy'], ['historical'], [], ['autobiographical', 'crime', 'fiction'], ['science', 'fiction'], ['detective', 'fiction', 'short', 'story'], ['historical', 'fiction', 'fiction'], ['gothic', 'fiction', 'young', 'adult', 'literature', 'fiction'], ['gothic', 'fiction', 'young', 'adult', 'literature'], ['gothic', 'fiction', 'young', 'adult', 'literature'], ['thriller', 'fiction', 'suspense'], ['thriller', 'fiction']]\n"
     ]
    }
   ],
   "source": [
    "df2['genres']=l2\n",
    "print(l2)\n",
    "d2 = defaultdict(list)\n",
    "#df2.to_csv('new_book_rating.csv')"
   ]
  },
  {
   "cell_type": "code",
   "execution_count": 378,
   "metadata": {},
   "outputs": [
    {
     "name": "stdout",
     "output_type": "stream",
     "text": [
      "2\n",
      "2378\n",
      "defaultdict(<class 'list'>, {})\n"
     ]
    }
   ],
   "source": [
    "#d[1]\n",
    "print(len(d))\n",
    "print(len(l2))\n",
    "#print(len(l))\n",
    "print(d2)\n",
    "#d2.iloc[697][2]"
   ]
  },
  {
   "cell_type": "code",
   "execution_count": 379,
   "metadata": {},
   "outputs": [
    {
     "name": "stdout",
     "output_type": "stream",
     "text": [
      "8.295257806777954\n"
     ]
    }
   ],
   "source": [
    "#score=[]\n",
    "import time\n",
    "start=time.time()\n",
    "l=d[1][0]\n",
    "s=1\n",
    "for u in range(1,len(d)+1):\n",
    "    for v in range(0,len(d[u])):\n",
    "        l=d[u][v]# list of genres corresponding to one movie \n",
    "        score=[]\n",
    "        for i in range(0,190):# iterating over books\n",
    "            count=0\n",
    "            for j in range(0,len(l)): # iterating over each genre in l\n",
    "                if len(l)==0 or len(l2[i])==0:\n",
    "                    count=0\n",
    "                    break\n",
    "                for k in range(0,len(l2[i])):# iterating over each genre of book\n",
    "                    if(l[j] not in l2[i]):\n",
    "                        count+=(float)(df3.loc[l[j]].loc[l2[i][k]])/len(l2[i])#l2 mg h \n",
    "                    else:\n",
    "                        if l[j]==l2[i][k]:\n",
    "                            count+=1\n",
    "                        else:\n",
    "                            count+=((df3.loc[l[j]].loc[l2[i][k]])/len(l2[i])-1)\n",
    "            count/=(len(l))#*len(l2[i])\n",
    "            score.append(count)\n",
    "        d2[u].append(score)\n",
    "    #print(s)\n",
    "    s+=1\n",
    "end=time.time()\n",
    "print(end-start)"
   ]
  },
  {
   "cell_type": "code",
   "execution_count": 380,
   "metadata": {
    "collapsed": true
   },
   "outputs": [],
   "source": [
    "from __future__ import division"
   ]
  },
  {
   "cell_type": "code",
   "execution_count": 381,
   "metadata": {
    "collapsed": true
   },
   "outputs": [],
   "source": [
    "for i in range(1,len(d2)+1):\n",
    "    d2[i]=[sum(e)/len(e) for e in zip(*d2[i])]"
   ]
  },
  {
   "cell_type": "code",
   "execution_count": 382,
   "metadata": {},
   "outputs": [
    {
     "data": {
      "text/plain": [
       "[32.857142857142854,\n",
       " 36.800000000000004,\n",
       " 32.5,\n",
       " 32.5,\n",
       " 39.5,\n",
       " 40.0,\n",
       " 52.0,\n",
       " 21.0,\n",
       " 30.666666666666668,\n",
       " 20.0,\n",
       " 30.25,\n",
       " 36.625,\n",
       " 27.92857142857142,\n",
       " 24.71428571428572,\n",
       " 26.5,\n",
       " 24.928571428571423,\n",
       " 29.25,\n",
       " 21.0,\n",
       " 26.5,\n",
       " 27.5,\n",
       " 27.5,\n",
       " 0.0,\n",
       " 0.0,\n",
       " 21.25,\n",
       " 42.5,\n",
       " 22.5,\n",
       " 21.25,\n",
       " 21.0,\n",
       " 27.92857142857142,\n",
       " 23.83333333333334,\n",
       " 27.900000000000002,\n",
       " 20.0,\n",
       " 30.75,\n",
       " 22.5,\n",
       " 26.5,\n",
       " 24.0,\n",
       " 29.800000000000004,\n",
       " 30.785714285714285,\n",
       " 24.66666666666666,\n",
       " 0.0,\n",
       " 37.25,\n",
       " 29.58333333333334,\n",
       " 31.88888888888889,\n",
       " 42.5,\n",
       " 52.0,\n",
       " 0.0,\n",
       " 0.0,\n",
       " 42.666666666666664,\n",
       " 26.5,\n",
       " 26.5,\n",
       " 20.0,\n",
       " 31.142857142857142,\n",
       " 0.0,\n",
       " 21.0,\n",
       " 26.5,\n",
       " 30.25,\n",
       " 21.33333333333334,\n",
       " 22.625,\n",
       " 22.625,\n",
       " 25.599999999999998,\n",
       " 29.428571428571427,\n",
       " 0.0,\n",
       " 20.0,\n",
       " 24.66666666666666,\n",
       " 24.66666666666666,\n",
       " 24.66666666666666,\n",
       " 27.92857142857142,\n",
       " 21.0,\n",
       " 24.66666666666666,\n",
       " 27.5,\n",
       " 77.5,\n",
       " 31.5,\n",
       " 30.08333333333332,\n",
       " 29.25,\n",
       " 24.300000000000004,\n",
       " 27.25,\n",
       " 27.5,\n",
       " 20.5,\n",
       " 30.25,\n",
       " 6.0,\n",
       " 21.0,\n",
       " 27.4375,\n",
       " 16.25,\n",
       " 27.5,\n",
       " 27.666666666666664,\n",
       " 27.25,\n",
       " 35.083333333333336,\n",
       " 21.0,\n",
       " 19.5,\n",
       " 28.75,\n",
       " 21.33333333333334,\n",
       " 30.666666666666668,\n",
       " 11.0,\n",
       " 36.9375,\n",
       " 48.75,\n",
       " 0.0,\n",
       " 22.099999999999998,\n",
       " 20.0,\n",
       " 24.66666666666666,\n",
       " 24.66666666666666,\n",
       " 24.66666666666666,\n",
       " 24.66666666666666,\n",
       " 24.66666666666666,\n",
       " 22.099999999999998,\n",
       " 26.5,\n",
       " 77.5,\n",
       " 17.75,\n",
       " 22.5,\n",
       " 24.300000000000004,\n",
       " 77.5,\n",
       " 26.5,\n",
       " 31.142857142857142,\n",
       " 22.5,\n",
       " 25.375,\n",
       " 27.5,\n",
       " 30.666666666666668,\n",
       " 21.4375,\n",
       " 21.33333333333334,\n",
       " 25.625,\n",
       " 34.25,\n",
       " 22.5,\n",
       " 25.599999999999998,\n",
       " 24.583333333333336,\n",
       " 23.3125,\n",
       " 22.625,\n",
       " 25.599999999999998,\n",
       " 22.625,\n",
       " 21.0,\n",
       " 25.599999999999998,\n",
       " 28.714285714285715,\n",
       " 26.349999999999998,\n",
       " 31.0,\n",
       " 25.0,\n",
       " 24.66666666666666,\n",
       " 25.599999999999998,\n",
       " 24.66666666666666,\n",
       " 19.5,\n",
       " 27.83333333333334,\n",
       " 27.900000000000002,\n",
       " 41.375,\n",
       " 29.25,\n",
       " 77.5,\n",
       " 25.599999999999998,\n",
       " 22.625,\n",
       " 25.599999999999998,\n",
       " 21.25,\n",
       " 21.0,\n",
       " 24.40909090909091,\n",
       " 25.599999999999998,\n",
       " 22.625,\n",
       " 25.599999999999998,\n",
       " 21.33333333333334,\n",
       " 25.599999999999998,\n",
       " 27.83333333333334,\n",
       " 21.0,\n",
       " 30.666666666666668,\n",
       " 21.33333333333334,\n",
       " 21.33333333333334,\n",
       " 33.11111111111111,\n",
       " 26.5,\n",
       " 0.0,\n",
       " 24.625,\n",
       " 21.0,\n",
       " 21.0,\n",
       " 34.0,\n",
       " 42.666666666666664,\n",
       " 21.0,\n",
       " 23.000000000000004,\n",
       " 23.83333333333334,\n",
       " 25.599999999999998,\n",
       " 25.949999999999996,\n",
       " 27.16666666666666,\n",
       " 26.5,\n",
       " 25.5,\n",
       " 24.428571428571423,\n",
       " 52.0,\n",
       " 27.714285714285715,\n",
       " 29.800000000000004,\n",
       " 29.800000000000004,\n",
       " 27.714285714285715,\n",
       " 22.099999999999998,\n",
       " 36.214285714285715,\n",
       " 22.5,\n",
       " 22.5,\n",
       " 19.5,\n",
       " 24.428571428571423,\n",
       " 31.5,\n",
       " 24.428571428571423,\n",
       " 24.428571428571423,\n",
       " 24.428571428571423]"
      ]
     },
     "execution_count": 382,
     "metadata": {},
     "output_type": "execute_result"
    }
   ],
   "source": [
    "d2[1]"
   ]
  },
  {
   "cell_type": "code",
   "execution_count": 383,
   "metadata": {
    "collapsed": true
   },
   "outputs": [],
   "source": [
    "import numpy as np\n",
    "zero_data=np.zeros(shape=(2378,11))\n",
    "d = pd.DataFrame(zero_data)"
   ]
  },
  {
   "cell_type": "code",
   "execution_count": 384,
   "metadata": {
    "collapsed": true
   },
   "outputs": [],
   "source": [
    "for i in range(1,len(d2)+1):\n",
    "    d[i]=pd.Series(d2[i])"
   ]
  },
  {
   "cell_type": "code",
   "execution_count": 385,
   "metadata": {
    "collapsed": true
   },
   "outputs": [],
   "source": [
    "d.to_csv(\"genreCrosstest10.csv\")\n"
   ]
  },
  {
   "cell_type": "code",
   "execution_count": 386,
   "metadata": {
    "collapsed": true
   },
   "outputs": [],
   "source": [
    "## recommending books"
   ]
  },
  {
   "cell_type": "code",
   "execution_count": 387,
   "metadata": {
    "collapsed": true
   },
   "outputs": [],
   "source": [
    "#df4=pd.read_csv(\"similarCrossTest10.csv\")\n",
    "df5=pd.read_csv(\"genreCrosstest10.csv\")"
   ]
  },
  {
   "cell_type": "code",
   "execution_count": 388,
   "metadata": {
    "collapsed": true
   },
   "outputs": [],
   "source": [
    "import numpy as np\n",
    "zero_data=np.zeros(shape=(2378,11))\n",
    "d2 = pd.DataFrame(zero_data)"
   ]
  },
  {
   "cell_type": "code",
   "execution_count": 389,
   "metadata": {
    "collapsed": true
   },
   "outputs": [],
   "source": [
    "for i in range(1,11):\n",
    "    data=[]\n",
    "    #data.append(df4[str(i)])\n",
    "    data.append(df5[str(i)])\n",
    "    l7=[]\n",
    "    for j in range(0,2378):\n",
    "       # l7.append(1*data[1][j]+0*data[0][j])\n",
    "         l7.append(data[0][j])\n",
    "    d2[i]=l7"
   ]
  },
  {
   "cell_type": "code",
   "execution_count": 390,
   "metadata": {
    "collapsed": true
   },
   "outputs": [],
   "source": [
    "result = pd.concat([df2, d2], axis=1)"
   ]
  },
  {
   "cell_type": "code",
   "execution_count": 391,
   "metadata": {},
   "outputs": [
    {
     "data": {
      "text/plain": [
       "nan"
      ]
     },
     "execution_count": 391,
     "metadata": {},
     "output_type": "execute_result"
    }
   ],
   "source": [
    "d2.iloc[697][2]"
   ]
  },
  {
   "cell_type": "code",
   "execution_count": 392,
   "metadata": {
    "collapsed": true
   },
   "outputs": [],
   "source": [
    "import numpy as np\n",
    "zero_data=np.zeros(shape=(20,11))\n",
    "books = pd.DataFrame(zero_data)"
   ]
  },
  {
   "cell_type": "code",
   "execution_count": 393,
   "metadata": {
    "collapsed": true
   },
   "outputs": [],
   "source": [
    "\n",
    "for i in range(1,11):\n",
    "    result = pd.concat([df2, d2], axis=1)\n",
    "    result.sort_values(by=i,ascending=False,inplace=True)\n",
    "    df8=(result.head(n=20))\n",
    "    l=df8['title'].tolist()\n",
    "    books[i]=l"
   ]
  },
  {
   "cell_type": "code",
   "execution_count": 394,
   "metadata": {
    "scrolled": true
   },
   "outputs": [
    {
     "data": {
      "text/plain": [
       "39.714285714285715"
      ]
     },
     "execution_count": 394,
     "metadata": {},
     "output_type": "execute_result"
    }
   ],
   "source": [
    "(d2[2][0])"
   ]
  },
  {
   "cell_type": "code",
   "execution_count": 395,
   "metadata": {},
   "outputs": [
    {
     "data": {
      "text/html": [
       "<div>\n",
       "<style>\n",
       "    .dataframe thead tr:only-child th {\n",
       "        text-align: right;\n",
       "    }\n",
       "\n",
       "    .dataframe thead th {\n",
       "        text-align: left;\n",
       "    }\n",
       "\n",
       "    .dataframe tbody tr th {\n",
       "        vertical-align: top;\n",
       "    }\n",
       "</style>\n",
       "<table border=\"1\" class=\"dataframe\">\n",
       "  <thead>\n",
       "    <tr style=\"text-align: right;\">\n",
       "      <th></th>\n",
       "      <th>0</th>\n",
       "      <th>1</th>\n",
       "      <th>2</th>\n",
       "      <th>3</th>\n",
       "      <th>4</th>\n",
       "      <th>5</th>\n",
       "      <th>6</th>\n",
       "      <th>7</th>\n",
       "      <th>8</th>\n",
       "      <th>9</th>\n",
       "      <th>10</th>\n",
       "    </tr>\n",
       "  </thead>\n",
       "  <tbody>\n",
       "    <tr>\n",
       "      <th>0</th>\n",
       "      <td>0.0</td>\n",
       "      <td>Taking Lives</td>\n",
       "      <td>Nemesis</td>\n",
       "      <td>Sole Survivor</td>\n",
       "      <td>Sole Survivor</td>\n",
       "      <td>Sole Survivor</td>\n",
       "      <td>Sole Survivor</td>\n",
       "      <td>Sole Survivor</td>\n",
       "      <td>Sole Survivor</td>\n",
       "      <td>Sole Survivor</td>\n",
       "      <td>Sole Survivor</td>\n",
       "    </tr>\n",
       "    <tr>\n",
       "      <th>1</th>\n",
       "      <td>0.0</td>\n",
       "      <td>The Hunter</td>\n",
       "      <td>Trace</td>\n",
       "      <td>2nd Chance</td>\n",
       "      <td>2nd Chance</td>\n",
       "      <td>2nd Chance</td>\n",
       "      <td>2nd Chance</td>\n",
       "      <td>2nd Chance</td>\n",
       "      <td>2nd Chance</td>\n",
       "      <td>2nd Chance</td>\n",
       "      <td>2nd Chance</td>\n",
       "    </tr>\n",
       "    <tr>\n",
       "      <th>2</th>\n",
       "      <td>0.0</td>\n",
       "      <td>A Small Town in Germany</td>\n",
       "      <td>The Lover</td>\n",
       "      <td>Wyatt's Hurricane</td>\n",
       "      <td>Wyatt's Hurricane</td>\n",
       "      <td>Wyatt's Hurricane</td>\n",
       "      <td>Wyatt's Hurricane</td>\n",
       "      <td>Wyatt's Hurricane</td>\n",
       "      <td>Wyatt's Hurricane</td>\n",
       "      <td>Wyatt's Hurricane</td>\n",
       "      <td>Wyatt's Hurricane</td>\n",
       "    </tr>\n",
       "    <tr>\n",
       "      <th>3</th>\n",
       "      <td>0.0</td>\n",
       "      <td>To Catch a Thief</td>\n",
       "      <td>A Small Town in Germany</td>\n",
       "      <td>Running Blind</td>\n",
       "      <td>Running Blind</td>\n",
       "      <td>Running Blind</td>\n",
       "      <td>Running Blind</td>\n",
       "      <td>Running Blind</td>\n",
       "      <td>Running Blind</td>\n",
       "      <td>Running Blind</td>\n",
       "      <td>Running Blind</td>\n",
       "    </tr>\n",
       "    <tr>\n",
       "      <th>4</th>\n",
       "      <td>0.0</td>\n",
       "      <td>Man on Fire</td>\n",
       "      <td>Taking Lives</td>\n",
       "      <td>Bahama Crisis</td>\n",
       "      <td>Bahama Crisis</td>\n",
       "      <td>Bahama Crisis</td>\n",
       "      <td>Bahama Crisis</td>\n",
       "      <td>Bahama Crisis</td>\n",
       "      <td>Bahama Crisis</td>\n",
       "      <td>Bahama Crisis</td>\n",
       "      <td>Bahama Crisis</td>\n",
       "    </tr>\n",
       "    <tr>\n",
       "      <th>5</th>\n",
       "      <td>0.0</td>\n",
       "      <td>The Eiger Sanction</td>\n",
       "      <td>To Catch a Thief</td>\n",
       "      <td>The Enemy</td>\n",
       "      <td>The Enemy</td>\n",
       "      <td>The Enemy</td>\n",
       "      <td>The Enemy</td>\n",
       "      <td>The Enemy</td>\n",
       "      <td>The Enemy</td>\n",
       "      <td>The Enemy</td>\n",
       "      <td>The Enemy</td>\n",
       "    </tr>\n",
       "    <tr>\n",
       "      <th>6</th>\n",
       "      <td>0.0</td>\n",
       "      <td>Topaz</td>\n",
       "      <td>The Hunter</td>\n",
       "      <td>Socks</td>\n",
       "      <td>Socks</td>\n",
       "      <td>Socks</td>\n",
       "      <td>Socks</td>\n",
       "      <td>Socks</td>\n",
       "      <td>Socks</td>\n",
       "      <td>Socks</td>\n",
       "      <td>Socks</td>\n",
       "    </tr>\n",
       "    <tr>\n",
       "      <th>7</th>\n",
       "      <td>0.0</td>\n",
       "      <td>The Golden Egg</td>\n",
       "      <td>Man on Fire</td>\n",
       "      <td>The Gates of Sleep</td>\n",
       "      <td>The Gates of Sleep</td>\n",
       "      <td>The Gates of Sleep</td>\n",
       "      <td>The Gates of Sleep</td>\n",
       "      <td>The Gates of Sleep</td>\n",
       "      <td>The Gates of Sleep</td>\n",
       "      <td>The Gates of Sleep</td>\n",
       "      <td>The Gates of Sleep</td>\n",
       "    </tr>\n",
       "    <tr>\n",
       "      <th>8</th>\n",
       "      <td>0.0</td>\n",
       "      <td>The Osterman Weekend</td>\n",
       "      <td>Topaz</td>\n",
       "      <td>First Contact</td>\n",
       "      <td>First Contact</td>\n",
       "      <td>First Contact</td>\n",
       "      <td>First Contact</td>\n",
       "      <td>First Contact</td>\n",
       "      <td>First Contact</td>\n",
       "      <td>First Contact</td>\n",
       "      <td>First Contact</td>\n",
       "    </tr>\n",
       "    <tr>\n",
       "      <th>9</th>\n",
       "      <td>0.0</td>\n",
       "      <td>The Manchurian Candidate</td>\n",
       "      <td>The Eiger Sanction</td>\n",
       "      <td>Impulse</td>\n",
       "      <td>Impulse</td>\n",
       "      <td>Impulse</td>\n",
       "      <td>Impulse</td>\n",
       "      <td>Impulse</td>\n",
       "      <td>Impulse</td>\n",
       "      <td>Impulse</td>\n",
       "      <td>Impulse</td>\n",
       "    </tr>\n",
       "    <tr>\n",
       "      <th>10</th>\n",
       "      <td>0.0</td>\n",
       "      <td>The Fury</td>\n",
       "      <td>The Keys to the Street</td>\n",
       "      <td>Nightwings</td>\n",
       "      <td>Nightwings</td>\n",
       "      <td>Nightwings</td>\n",
       "      <td>Nightwings</td>\n",
       "      <td>Nightwings</td>\n",
       "      <td>Nightwings</td>\n",
       "      <td>Nightwings</td>\n",
       "      <td>Nightwings</td>\n",
       "    </tr>\n",
       "    <tr>\n",
       "      <th>11</th>\n",
       "      <td>0.0</td>\n",
       "      <td>Lost City</td>\n",
       "      <td>Lost City</td>\n",
       "      <td>Sunset in St. Tropez</td>\n",
       "      <td>Sunset in St. Tropez</td>\n",
       "      <td>Sunset in St. Tropez</td>\n",
       "      <td>Sunset in St. Tropez</td>\n",
       "      <td>Sunset in St. Tropez</td>\n",
       "      <td>Sunset in St. Tropez</td>\n",
       "      <td>Sunset in St. Tropez</td>\n",
       "      <td>Sunset in St. Tropez</td>\n",
       "    </tr>\n",
       "    <tr>\n",
       "      <th>12</th>\n",
       "      <td>0.0</td>\n",
       "      <td>Hostage</td>\n",
       "      <td>A Demon in My View</td>\n",
       "      <td>Wish You Well</td>\n",
       "      <td>Wish You Well</td>\n",
       "      <td>Wish You Well</td>\n",
       "      <td>Wish You Well</td>\n",
       "      <td>Wish You Well</td>\n",
       "      <td>Wish You Well</td>\n",
       "      <td>Wish You Well</td>\n",
       "      <td>Wish You Well</td>\n",
       "    </tr>\n",
       "    <tr>\n",
       "      <th>13</th>\n",
       "      <td>0.0</td>\n",
       "      <td>By the Light of the Moon</td>\n",
       "      <td>Vanity Dies Hard</td>\n",
       "      <td>Biting the Sun</td>\n",
       "      <td>Biting the Sun</td>\n",
       "      <td>Biting the Sun</td>\n",
       "      <td>Biting the Sun</td>\n",
       "      <td>Biting the Sun</td>\n",
       "      <td>Biting the Sun</td>\n",
       "      <td>Biting the Sun</td>\n",
       "      <td>Biting the Sun</td>\n",
       "    </tr>\n",
       "    <tr>\n",
       "      <th>14</th>\n",
       "      <td>0.0</td>\n",
       "      <td>From the Corner of His Eye</td>\n",
       "      <td>The Veiled One</td>\n",
       "      <td>Shutter Island</td>\n",
       "      <td>Shutter Island</td>\n",
       "      <td>Shutter Island</td>\n",
       "      <td>Shutter Island</td>\n",
       "      <td>Shutter Island</td>\n",
       "      <td>Shutter Island</td>\n",
       "      <td>Shutter Island</td>\n",
       "      <td>Shutter Island</td>\n",
       "    </tr>\n",
       "    <tr>\n",
       "      <th>15</th>\n",
       "      <td>0.0</td>\n",
       "      <td>Vector</td>\n",
       "      <td>Simisola</td>\n",
       "      <td>Master Georgie</td>\n",
       "      <td>Master Georgie</td>\n",
       "      <td>Master Georgie</td>\n",
       "      <td>Master Georgie</td>\n",
       "      <td>Master Georgie</td>\n",
       "      <td>Master Georgie</td>\n",
       "      <td>Master Georgie</td>\n",
       "      <td>Master Georgie</td>\n",
       "    </tr>\n",
       "    <tr>\n",
       "      <th>16</th>\n",
       "      <td>0.0</td>\n",
       "      <td>Hannibal</td>\n",
       "      <td>An Unkindness of Ravens</td>\n",
       "      <td>The Glass Palace: A Novel</td>\n",
       "      <td>The Glass Palace: A Novel</td>\n",
       "      <td>The Glass Palace: A Novel</td>\n",
       "      <td>The Glass Palace: A Novel</td>\n",
       "      <td>The Glass Palace: A Novel</td>\n",
       "      <td>The Glass Palace: A Novel</td>\n",
       "      <td>The Glass Palace: A Novel</td>\n",
       "      <td>The Glass Palace: A Novel</td>\n",
       "    </tr>\n",
       "    <tr>\n",
       "      <th>17</th>\n",
       "      <td>0.0</td>\n",
       "      <td>Fear Nothing</td>\n",
       "      <td>The Best Man to Die</td>\n",
       "      <td>Sakkara</td>\n",
       "      <td>Sakkara</td>\n",
       "      <td>Sakkara</td>\n",
       "      <td>Sakkara</td>\n",
       "      <td>Sakkara</td>\n",
       "      <td>Sakkara</td>\n",
       "      <td>Sakkara</td>\n",
       "      <td>Sakkara</td>\n",
       "    </tr>\n",
       "    <tr>\n",
       "      <th>18</th>\n",
       "      <td>0.0</td>\n",
       "      <td>Enigma</td>\n",
       "      <td>Shake Hands Forever</td>\n",
       "      <td>The Witch of the Low Tide</td>\n",
       "      <td>The Witch of the Low Tide</td>\n",
       "      <td>The Witch of the Low Tide</td>\n",
       "      <td>The Witch of the Low Tide</td>\n",
       "      <td>The Witch of the Low Tide</td>\n",
       "      <td>The Witch of the Low Tide</td>\n",
       "      <td>The Witch of the Low Tide</td>\n",
       "      <td>The Witch of the Low Tide</td>\n",
       "    </tr>\n",
       "    <tr>\n",
       "      <th>19</th>\n",
       "      <td>0.0</td>\n",
       "      <td>Psycho</td>\n",
       "      <td>The Killing Doll</td>\n",
       "      <td>Bad Land: An American Romance</td>\n",
       "      <td>Bad Land: An American Romance</td>\n",
       "      <td>Bad Land: An American Romance</td>\n",
       "      <td>Bad Land: An American Romance</td>\n",
       "      <td>Bad Land: An American Romance</td>\n",
       "      <td>Bad Land: An American Romance</td>\n",
       "      <td>Bad Land: An American Romance</td>\n",
       "      <td>Bad Land: An American Romance</td>\n",
       "    </tr>\n",
       "  </tbody>\n",
       "</table>\n",
       "</div>"
      ],
      "text/plain": [
       "     0                           1                        2   \\\n",
       "0   0.0                Taking Lives                  Nemesis   \n",
       "1   0.0                  The Hunter                    Trace   \n",
       "2   0.0     A Small Town in Germany                The Lover   \n",
       "3   0.0            To Catch a Thief  A Small Town in Germany   \n",
       "4   0.0                 Man on Fire             Taking Lives   \n",
       "5   0.0          The Eiger Sanction         To Catch a Thief   \n",
       "6   0.0                       Topaz               The Hunter   \n",
       "7   0.0              The Golden Egg              Man on Fire   \n",
       "8   0.0        The Osterman Weekend                    Topaz   \n",
       "9   0.0    The Manchurian Candidate       The Eiger Sanction   \n",
       "10  0.0                    The Fury   The Keys to the Street   \n",
       "11  0.0                   Lost City                Lost City   \n",
       "12  0.0                     Hostage       A Demon in My View   \n",
       "13  0.0    By the Light of the Moon         Vanity Dies Hard   \n",
       "14  0.0  From the Corner of His Eye           The Veiled One   \n",
       "15  0.0                      Vector                 Simisola   \n",
       "16  0.0                    Hannibal  An Unkindness of Ravens   \n",
       "17  0.0                Fear Nothing      The Best Man to Die   \n",
       "18  0.0                      Enigma      Shake Hands Forever   \n",
       "19  0.0                      Psycho         The Killing Doll   \n",
       "\n",
       "                               3                              4   \\\n",
       "0                   Sole Survivor                  Sole Survivor   \n",
       "1                      2nd Chance                     2nd Chance   \n",
       "2               Wyatt's Hurricane              Wyatt's Hurricane   \n",
       "3                   Running Blind                  Running Blind   \n",
       "4                   Bahama Crisis                  Bahama Crisis   \n",
       "5                       The Enemy                      The Enemy   \n",
       "6                           Socks                          Socks   \n",
       "7              The Gates of Sleep             The Gates of Sleep   \n",
       "8                   First Contact                  First Contact   \n",
       "9                         Impulse                        Impulse   \n",
       "10                     Nightwings                     Nightwings   \n",
       "11           Sunset in St. Tropez           Sunset in St. Tropez   \n",
       "12                  Wish You Well                  Wish You Well   \n",
       "13                 Biting the Sun                 Biting the Sun   \n",
       "14                 Shutter Island                 Shutter Island   \n",
       "15                 Master Georgie                 Master Georgie   \n",
       "16      The Glass Palace: A Novel      The Glass Palace: A Novel   \n",
       "17                        Sakkara                        Sakkara   \n",
       "18      The Witch of the Low Tide      The Witch of the Low Tide   \n",
       "19  Bad Land: An American Romance  Bad Land: An American Romance   \n",
       "\n",
       "                               5                              6   \\\n",
       "0                   Sole Survivor                  Sole Survivor   \n",
       "1                      2nd Chance                     2nd Chance   \n",
       "2               Wyatt's Hurricane              Wyatt's Hurricane   \n",
       "3                   Running Blind                  Running Blind   \n",
       "4                   Bahama Crisis                  Bahama Crisis   \n",
       "5                       The Enemy                      The Enemy   \n",
       "6                           Socks                          Socks   \n",
       "7              The Gates of Sleep             The Gates of Sleep   \n",
       "8                   First Contact                  First Contact   \n",
       "9                         Impulse                        Impulse   \n",
       "10                     Nightwings                     Nightwings   \n",
       "11           Sunset in St. Tropez           Sunset in St. Tropez   \n",
       "12                  Wish You Well                  Wish You Well   \n",
       "13                 Biting the Sun                 Biting the Sun   \n",
       "14                 Shutter Island                 Shutter Island   \n",
       "15                 Master Georgie                 Master Georgie   \n",
       "16      The Glass Palace: A Novel      The Glass Palace: A Novel   \n",
       "17                        Sakkara                        Sakkara   \n",
       "18      The Witch of the Low Tide      The Witch of the Low Tide   \n",
       "19  Bad Land: An American Romance  Bad Land: An American Romance   \n",
       "\n",
       "                               7                              8   \\\n",
       "0                   Sole Survivor                  Sole Survivor   \n",
       "1                      2nd Chance                     2nd Chance   \n",
       "2               Wyatt's Hurricane              Wyatt's Hurricane   \n",
       "3                   Running Blind                  Running Blind   \n",
       "4                   Bahama Crisis                  Bahama Crisis   \n",
       "5                       The Enemy                      The Enemy   \n",
       "6                           Socks                          Socks   \n",
       "7              The Gates of Sleep             The Gates of Sleep   \n",
       "8                   First Contact                  First Contact   \n",
       "9                         Impulse                        Impulse   \n",
       "10                     Nightwings                     Nightwings   \n",
       "11           Sunset in St. Tropez           Sunset in St. Tropez   \n",
       "12                  Wish You Well                  Wish You Well   \n",
       "13                 Biting the Sun                 Biting the Sun   \n",
       "14                 Shutter Island                 Shutter Island   \n",
       "15                 Master Georgie                 Master Georgie   \n",
       "16      The Glass Palace: A Novel      The Glass Palace: A Novel   \n",
       "17                        Sakkara                        Sakkara   \n",
       "18      The Witch of the Low Tide      The Witch of the Low Tide   \n",
       "19  Bad Land: An American Romance  Bad Land: An American Romance   \n",
       "\n",
       "                               9                              10  \n",
       "0                   Sole Survivor                  Sole Survivor  \n",
       "1                      2nd Chance                     2nd Chance  \n",
       "2               Wyatt's Hurricane              Wyatt's Hurricane  \n",
       "3                   Running Blind                  Running Blind  \n",
       "4                   Bahama Crisis                  Bahama Crisis  \n",
       "5                       The Enemy                      The Enemy  \n",
       "6                           Socks                          Socks  \n",
       "7              The Gates of Sleep             The Gates of Sleep  \n",
       "8                   First Contact                  First Contact  \n",
       "9                         Impulse                        Impulse  \n",
       "10                     Nightwings                     Nightwings  \n",
       "11           Sunset in St. Tropez           Sunset in St. Tropez  \n",
       "12                  Wish You Well                  Wish You Well  \n",
       "13                 Biting the Sun                 Biting the Sun  \n",
       "14                 Shutter Island                 Shutter Island  \n",
       "15                 Master Georgie                 Master Georgie  \n",
       "16      The Glass Palace: A Novel      The Glass Palace: A Novel  \n",
       "17                        Sakkara                        Sakkara  \n",
       "18      The Witch of the Low Tide      The Witch of the Low Tide  \n",
       "19  Bad Land: An American Romance  Bad Land: An American Romance  "
      ]
     },
     "execution_count": 395,
     "metadata": {},
     "output_type": "execute_result"
    }
   ],
   "source": [
    "books.head(n=20)"
   ]
  },
  {
   "cell_type": "code",
   "execution_count": 397,
   "metadata": {},
   "outputs": [],
   "source": [
    "books.to_csv(\"Onlygenresrecommend2.csv\")"
   ]
  },
  {
   "cell_type": "code",
   "execution_count": null,
   "metadata": {},
   "outputs": [],
   "source": [
    "from nltk.corpus import wordnet\n",
    "cb = wordnet.synset('cookbook.n.01')\n",
    "ib = wordnet.synset('tomato.n.02')\n",
    "cb.wup_similarity(ib)"
   ]
  },
  {
   "cell_type": "code",
   "execution_count": null,
   "metadata": {},
   "outputs": [],
   "source": [
    "from nltk.wsd import lesk\n",
    "sent = ['I', 'went', 'to', 'the', 'bank', 'to', 'deposit', 'money', '.']\n",
    "print(lesk(sent, 'bank', 'n'))\n",
    "#Synset('savings_bank.n.02')\n",
    "print(lesk(sent, 'bank'))\n",
    "#Synset('savings_bank.n.02')"
   ]
  },
  {
   "cell_type": "code",
   "execution_count": null,
   "metadata": {
    "collapsed": true
   },
   "outputs": [],
   "source": []
  }
 ],
 "metadata": {
  "kernelspec": {
   "display_name": "Python 3",
   "language": "python",
   "name": "python3"
  },
  "language_info": {
   "codemirror_mode": {
    "name": "ipython",
    "version": 3
   },
   "file_extension": ".py",
   "mimetype": "text/x-python",
   "name": "python",
   "nbconvert_exporter": "python",
   "pygments_lexer": "ipython3",
   "version": "3.6.3"
  }
 },
 "nbformat": 4,
 "nbformat_minor": 2
}
